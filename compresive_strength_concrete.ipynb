{
 "cells": [
  {
   "cell_type": "code",
   "execution_count": 1,
   "metadata": {},
   "outputs": [],
   "source": [
    "import numpy as np\n",
    "import pandas as pd\n",
    "import matplotlib.pyplot as plt"
   ]
  },
  {
   "cell_type": "code",
   "execution_count": 2,
   "metadata": {},
   "outputs": [],
   "source": [
    "df = pd.read_csv('datasets/compresive_strength_concrete.csv')"
   ]
  },
  {
   "cell_type": "code",
   "execution_count": 3,
   "metadata": {},
   "outputs": [
    {
     "data": {
      "text/html": [
       "<div>\n",
       "<style scoped>\n",
       "    .dataframe tbody tr th:only-of-type {\n",
       "        vertical-align: middle;\n",
       "    }\n",
       "\n",
       "    .dataframe tbody tr th {\n",
       "        vertical-align: top;\n",
       "    }\n",
       "\n",
       "    .dataframe thead th {\n",
       "        text-align: right;\n",
       "    }\n",
       "</style>\n",
       "<table border=\"1\" class=\"dataframe\">\n",
       "  <thead>\n",
       "    <tr style=\"text-align: right;\">\n",
       "      <th></th>\n",
       "      <th>Cement (component 1)(kg in a m^3 mixture)</th>\n",
       "      <th>Blast Furnace Slag (component 2)(kg in a m^3 mixture)</th>\n",
       "      <th>Fly Ash (component 3)(kg in a m^3 mixture)</th>\n",
       "      <th>Water  (component 4)(kg in a m^3 mixture)</th>\n",
       "      <th>Superplasticizer (component 5)(kg in a m^3 mixture)</th>\n",
       "      <th>Coarse Aggregate  (component 6)(kg in a m^3 mixture)</th>\n",
       "      <th>Fine Aggregate (component 7)(kg in a m^3 mixture)</th>\n",
       "      <th>Age (day)</th>\n",
       "      <th>Concrete compressive strength(MPa, megapascals)</th>\n",
       "    </tr>\n",
       "  </thead>\n",
       "  <tbody>\n",
       "    <tr>\n",
       "      <td>0</td>\n",
       "      <td>540.0</td>\n",
       "      <td>0.0</td>\n",
       "      <td>0.0</td>\n",
       "      <td>162.0</td>\n",
       "      <td>2.5</td>\n",
       "      <td>1040.0</td>\n",
       "      <td>676.0</td>\n",
       "      <td>28</td>\n",
       "      <td>79.99</td>\n",
       "    </tr>\n",
       "    <tr>\n",
       "      <td>1</td>\n",
       "      <td>540.0</td>\n",
       "      <td>0.0</td>\n",
       "      <td>0.0</td>\n",
       "      <td>162.0</td>\n",
       "      <td>2.5</td>\n",
       "      <td>1055.0</td>\n",
       "      <td>676.0</td>\n",
       "      <td>28</td>\n",
       "      <td>61.89</td>\n",
       "    </tr>\n",
       "    <tr>\n",
       "      <td>2</td>\n",
       "      <td>332.5</td>\n",
       "      <td>142.5</td>\n",
       "      <td>0.0</td>\n",
       "      <td>228.0</td>\n",
       "      <td>0.0</td>\n",
       "      <td>932.0</td>\n",
       "      <td>594.0</td>\n",
       "      <td>270</td>\n",
       "      <td>40.27</td>\n",
       "    </tr>\n",
       "    <tr>\n",
       "      <td>3</td>\n",
       "      <td>332.5</td>\n",
       "      <td>142.5</td>\n",
       "      <td>0.0</td>\n",
       "      <td>228.0</td>\n",
       "      <td>0.0</td>\n",
       "      <td>932.0</td>\n",
       "      <td>594.0</td>\n",
       "      <td>365</td>\n",
       "      <td>41.05</td>\n",
       "    </tr>\n",
       "    <tr>\n",
       "      <td>4</td>\n",
       "      <td>198.6</td>\n",
       "      <td>132.4</td>\n",
       "      <td>0.0</td>\n",
       "      <td>192.0</td>\n",
       "      <td>0.0</td>\n",
       "      <td>978.4</td>\n",
       "      <td>825.5</td>\n",
       "      <td>360</td>\n",
       "      <td>44.30</td>\n",
       "    </tr>\n",
       "  </tbody>\n",
       "</table>\n",
       "</div>"
      ],
      "text/plain": [
       "   Cement (component 1)(kg in a m^3 mixture)  \\\n",
       "0                                      540.0   \n",
       "1                                      540.0   \n",
       "2                                      332.5   \n",
       "3                                      332.5   \n",
       "4                                      198.6   \n",
       "\n",
       "   Blast Furnace Slag (component 2)(kg in a m^3 mixture)  \\\n",
       "0                                                0.0       \n",
       "1                                                0.0       \n",
       "2                                              142.5       \n",
       "3                                              142.5       \n",
       "4                                              132.4       \n",
       "\n",
       "   Fly Ash (component 3)(kg in a m^3 mixture)  \\\n",
       "0                                         0.0   \n",
       "1                                         0.0   \n",
       "2                                         0.0   \n",
       "3                                         0.0   \n",
       "4                                         0.0   \n",
       "\n",
       "   Water  (component 4)(kg in a m^3 mixture)  \\\n",
       "0                                      162.0   \n",
       "1                                      162.0   \n",
       "2                                      228.0   \n",
       "3                                      228.0   \n",
       "4                                      192.0   \n",
       "\n",
       "   Superplasticizer (component 5)(kg in a m^3 mixture)  \\\n",
       "0                                                2.5     \n",
       "1                                                2.5     \n",
       "2                                                0.0     \n",
       "3                                                0.0     \n",
       "4                                                0.0     \n",
       "\n",
       "   Coarse Aggregate  (component 6)(kg in a m^3 mixture)  \\\n",
       "0                                             1040.0      \n",
       "1                                             1055.0      \n",
       "2                                              932.0      \n",
       "3                                              932.0      \n",
       "4                                              978.4      \n",
       "\n",
       "   Fine Aggregate (component 7)(kg in a m^3 mixture)  Age (day)  \\\n",
       "0                                              676.0         28   \n",
       "1                                              676.0         28   \n",
       "2                                              594.0        270   \n",
       "3                                              594.0        365   \n",
       "4                                              825.5        360   \n",
       "\n",
       "   Concrete compressive strength(MPa, megapascals)   \n",
       "0                                             79.99  \n",
       "1                                             61.89  \n",
       "2                                             40.27  \n",
       "3                                             41.05  \n",
       "4                                             44.30  "
      ]
     },
     "execution_count": 3,
     "metadata": {},
     "output_type": "execute_result"
    }
   ],
   "source": [
    "df.head()"
   ]
  },
  {
   "cell_type": "code",
   "execution_count": 4,
   "metadata": {},
   "outputs": [
    {
     "data": {
      "text/plain": [
       "(1030, 9)"
      ]
     },
     "execution_count": 4,
     "metadata": {},
     "output_type": "execute_result"
    }
   ],
   "source": [
    "df.shape"
   ]
  },
  {
   "cell_type": "code",
   "execution_count": 5,
   "metadata": {},
   "outputs": [
    {
     "data": {
      "text/plain": [
       "Cement (component 1)(kg in a m^3 mixture)                0\n",
       "Blast Furnace Slag (component 2)(kg in a m^3 mixture)    0\n",
       "Fly Ash (component 3)(kg in a m^3 mixture)               0\n",
       "Water  (component 4)(kg in a m^3 mixture)                0\n",
       "Superplasticizer (component 5)(kg in a m^3 mixture)      0\n",
       "Coarse Aggregate  (component 6)(kg in a m^3 mixture)     0\n",
       "Fine Aggregate (component 7)(kg in a m^3 mixture)        0\n",
       "Age (day)                                                0\n",
       "Concrete compressive strength(MPa, megapascals)          0\n",
       "dtype: int64"
      ]
     },
     "execution_count": 5,
     "metadata": {},
     "output_type": "execute_result"
    }
   ],
   "source": [
    "df.isnull().sum()"
   ]
  },
  {
   "cell_type": "code",
   "execution_count": 11,
   "metadata": {},
   "outputs": [],
   "source": [
    "X = df.iloc[:, :-1].values\n",
    "y = df.iloc[:, -1].values"
   ]
  },
  {
   "cell_type": "code",
   "execution_count": 12,
   "metadata": {},
   "outputs": [],
   "source": [
    "# split data\n",
    "from sklearn.model_selection import train_test_split\n",
    "\n",
    "X_train, X_test, y_train, y_test = train_test_split(X, y, test_size=0.2, random_state=42)"
   ]
  },
  {
   "cell_type": "code",
   "execution_count": 13,
   "metadata": {},
   "outputs": [],
   "source": [
    "# Scale data\n",
    "from sklearn.preprocessing import MinMaxScaler\n",
    "\n",
    "scaler = MinMaxScaler()"
   ]
  },
  {
   "cell_type": "code",
   "execution_count": 14,
   "metadata": {},
   "outputs": [],
   "source": [
    "X_train = scaler.fit_transform(X_train)\n",
    "X_test = scaler.transform(X_test)"
   ]
  },
  {
   "cell_type": "code",
   "execution_count": 15,
   "metadata": {},
   "outputs": [],
   "source": [
    "from tensorflow.keras.models import Sequential\n",
    "from tensorflow.keras.layers import Dense, Dropout"
   ]
  },
  {
   "cell_type": "code",
   "execution_count": 64,
   "metadata": {},
   "outputs": [],
   "source": [
    "model = Sequential()\n",
    "model.add(Dense(128, activation='relu'))\n",
    "model.add(Dropout(0.2))\n",
    "model.add(Dense(64, activation='relu'))\n",
    "model.add(Dropout(0.2))\n",
    "\n",
    "model.add(Dense(1))\n",
    "model.compile(optimizer='adam', loss='mse', metrics=['mae'])"
   ]
  },
  {
   "cell_type": "code",
   "execution_count": 65,
   "metadata": {},
   "outputs": [],
   "source": [
    "from tensorflow.keras.callbacks import EarlyStopping\n",
    "\n",
    "early_stop = EarlyStopping(monitor='val_loss', mode='min', verbose=1, patience=3)"
   ]
  },
  {
   "cell_type": "code",
   "execution_count": 66,
   "metadata": {},
   "outputs": [
    {
     "name": "stdout",
     "output_type": "stream",
     "text": [
      "Train on 824 samples, validate on 206 samples\n",
      "Epoch 1/500\n",
      "824/824 [==============================] - 1s 685us/sample - loss: 1568.3011 - mae: 35.8277 - val_loss: 1511.8783 - val_mae: 35.4127\n",
      "Epoch 2/500\n",
      "824/824 [==============================] - 0s 62us/sample - loss: 1543.1834 - mae: 35.4824 - val_loss: 1487.7361 - val_mae: 35.0717\n",
      "Epoch 3/500\n",
      "824/824 [==============================] - 0s 53us/sample - loss: 1515.6592 - mae: 35.0886 - val_loss: 1454.4943 - val_mae: 34.5949\n",
      "Epoch 4/500\n",
      "824/824 [==============================] - 0s 56us/sample - loss: 1477.0060 - mae: 34.5316 - val_loss: 1405.5785 - val_mae: 33.8879\n",
      "Epoch 5/500\n",
      "824/824 [==============================] - 0s 59us/sample - loss: 1421.2777 - mae: 33.7169 - val_loss: 1337.0514 - val_mae: 32.8723\n",
      "Epoch 6/500\n",
      "824/824 [==============================] - 0s 60us/sample - loss: 1343.8591 - mae: 32.5616 - val_loss: 1243.7302 - val_mae: 31.4384\n",
      "Epoch 7/500\n",
      "824/824 [==============================] - 0s 59us/sample - loss: 1242.0599 - mae: 30.9354 - val_loss: 1121.0645 - val_mae: 29.4612\n",
      "Epoch 8/500\n",
      "824/824 [==============================] - 0s 61us/sample - loss: 1106.3799 - mae: 28.7378 - val_loss: 967.7305 - val_mae: 26.8453\n",
      "Epoch 9/500\n",
      "824/824 [==============================] - 0s 55us/sample - loss: 943.8930 - mae: 25.8600 - val_loss: 788.1263 - val_mae: 23.6100\n",
      "Epoch 10/500\n",
      "824/824 [==============================] - 0s 62us/sample - loss: 759.1727 - mae: 22.5226 - val_loss: 600.6230 - val_mae: 20.1723\n",
      "Epoch 11/500\n",
      "824/824 [==============================] - 0s 64us/sample - loss: 578.3990 - mae: 19.1257 - val_loss: 428.4577 - val_mae: 16.7317\n",
      "Epoch 12/500\n",
      "824/824 [==============================] - 0s 63us/sample - loss: 419.2377 - mae: 15.9032 - val_loss: 300.7474 - val_mae: 13.9306\n",
      "Epoch 13/500\n",
      "824/824 [==============================] - 0s 61us/sample - loss: 318.2290 - mae: 13.8539 - val_loss: 235.7110 - val_mae: 12.3368\n",
      "Epoch 14/500\n",
      "824/824 [==============================] - 0s 62us/sample - loss: 277.5125 - mae: 13.2073 - val_loss: 221.9372 - val_mae: 12.0660\n",
      "Epoch 15/500\n",
      "824/824 [==============================] - 0s 54us/sample - loss: 282.0753 - mae: 13.5612 - val_loss: 223.0551 - val_mae: 12.2549\n",
      "Epoch 16/500\n",
      "824/824 [==============================] - 0s 58us/sample - loss: 282.9412 - mae: 13.5926 - val_loss: 217.9325 - val_mae: 12.1060\n",
      "Epoch 17/500\n",
      "824/824 [==============================] - 0s 58us/sample - loss: 271.8549 - mae: 13.3068 - val_loss: 211.4813 - val_mae: 11.8437\n",
      "Epoch 18/500\n",
      "824/824 [==============================] - 0s 68us/sample - loss: 261.9425 - mae: 12.9703 - val_loss: 207.3798 - val_mae: 11.6607\n",
      "Epoch 19/500\n",
      "824/824 [==============================] - 0s 67us/sample - loss: 263.0752 - mae: 13.0026 - val_loss: 204.3904 - val_mae: 11.5450\n",
      "Epoch 20/500\n",
      "824/824 [==============================] - 0s 62us/sample - loss: 249.7290 - mae: 12.6070 - val_loss: 200.5702 - val_mae: 11.4747\n",
      "Epoch 21/500\n",
      "824/824 [==============================] - 0s 60us/sample - loss: 248.1714 - mae: 12.4899 - val_loss: 196.7689 - val_mae: 11.4120\n",
      "Epoch 22/500\n",
      "824/824 [==============================] - 0s 59us/sample - loss: 241.6963 - mae: 12.6062 - val_loss: 193.1179 - val_mae: 11.3476\n",
      "Epoch 23/500\n",
      "824/824 [==============================] - 0s 63us/sample - loss: 238.2834 - mae: 12.3594 - val_loss: 189.5426 - val_mae: 11.2632\n",
      "Epoch 24/500\n",
      "824/824 [==============================] - 0s 71us/sample - loss: 227.8834 - mae: 12.1257 - val_loss: 186.0916 - val_mae: 11.1679\n",
      "Epoch 25/500\n",
      "824/824 [==============================] - 0s 57us/sample - loss: 223.9007 - mae: 11.9810 - val_loss: 182.9377 - val_mae: 11.0706\n",
      "Epoch 26/500\n",
      "824/824 [==============================] - 0s 53us/sample - loss: 229.2507 - mae: 12.1713 - val_loss: 179.3326 - val_mae: 10.9994\n",
      "Epoch 27/500\n",
      "824/824 [==============================] - 0s 55us/sample - loss: 212.2536 - mae: 11.7668 - val_loss: 176.0172 - val_mae: 10.9124\n",
      "Epoch 28/500\n",
      "824/824 [==============================] - 0s 61us/sample - loss: 204.4251 - mae: 11.5856 - val_loss: 172.7553 - val_mae: 10.8279\n",
      "Epoch 29/500\n",
      "824/824 [==============================] - 0s 64us/sample - loss: 200.8878 - mae: 11.2613 - val_loss: 169.5037 - val_mae: 10.7428\n",
      "Epoch 30/500\n",
      "824/824 [==============================] - 0s 75us/sample - loss: 199.6360 - mae: 11.3513 - val_loss: 166.3788 - val_mae: 10.6524\n",
      "Epoch 31/500\n",
      "824/824 [==============================] - 0s 56us/sample - loss: 191.7154 - mae: 11.0993 - val_loss: 163.4202 - val_mae: 10.5513\n",
      "Epoch 32/500\n",
      "824/824 [==============================] - 0s 59us/sample - loss: 197.0423 - mae: 11.2128 - val_loss: 160.4478 - val_mae: 10.4579\n",
      "Epoch 33/500\n",
      "824/824 [==============================] - 0s 65us/sample - loss: 189.8081 - mae: 11.0693 - val_loss: 157.3730 - val_mae: 10.3622\n",
      "Epoch 34/500\n",
      "824/824 [==============================] - 0s 56us/sample - loss: 190.4865 - mae: 11.0918 - val_loss: 154.4922 - val_mae: 10.2705\n",
      "Epoch 35/500\n",
      "824/824 [==============================] - 0s 56us/sample - loss: 190.9402 - mae: 11.0465 - val_loss: 151.6189 - val_mae: 10.1776\n",
      "Epoch 36/500\n",
      "824/824 [==============================] - 0s 62us/sample - loss: 182.6025 - mae: 10.8946 - val_loss: 148.8866 - val_mae: 10.0851\n",
      "Epoch 37/500\n",
      "824/824 [==============================] - 0s 62us/sample - loss: 178.6988 - mae: 10.6330 - val_loss: 146.2373 - val_mae: 9.9904\n",
      "Epoch 38/500\n",
      "824/824 [==============================] - 0s 60us/sample - loss: 173.3324 - mae: 10.5439 - val_loss: 143.8345 - val_mae: 9.9031\n",
      "Epoch 39/500\n",
      "824/824 [==============================] - 0s 62us/sample - loss: 166.9668 - mae: 10.4298 - val_loss: 142.0898 - val_mae: 9.8424\n",
      "Epoch 40/500\n",
      "824/824 [==============================] - 0s 61us/sample - loss: 163.3838 - mae: 10.2571 - val_loss: 139.8075 - val_mae: 9.7583\n",
      "Epoch 41/500\n",
      "824/824 [==============================] - 0s 63us/sample - loss: 162.7555 - mae: 10.1945 - val_loss: 137.4000 - val_mae: 9.6654\n",
      "Epoch 42/500\n",
      "824/824 [==============================] - 0s 65us/sample - loss: 168.7936 - mae: 10.4129 - val_loss: 135.0143 - val_mae: 9.5689\n",
      "Epoch 43/500\n",
      "824/824 [==============================] - 0s 64us/sample - loss: 159.9792 - mae: 10.1534 - val_loss: 132.6408 - val_mae: 9.4716\n",
      "Epoch 44/500\n",
      "824/824 [==============================] - 0s 62us/sample - loss: 154.7395 - mae: 9.9759 - val_loss: 130.7181 - val_mae: 9.3999\n",
      "Epoch 45/500\n",
      "824/824 [==============================] - 0s 69us/sample - loss: 152.0765 - mae: 9.8168 - val_loss: 129.1121 - val_mae: 9.3369\n",
      "Epoch 46/500\n",
      "824/824 [==============================] - 0s 63us/sample - loss: 158.4576 - mae: 10.0355 - val_loss: 126.9639 - val_mae: 9.2554\n",
      "Epoch 47/500\n",
      "824/824 [==============================] - 0s 60us/sample - loss: 147.2711 - mae: 9.7717 - val_loss: 125.2367 - val_mae: 9.1844\n",
      "Epoch 48/500\n",
      "824/824 [==============================] - 0s 61us/sample - loss: 149.4231 - mae: 9.7844 - val_loss: 123.9933 - val_mae: 9.1267\n",
      "Epoch 49/500\n",
      "824/824 [==============================] - 0s 63us/sample - loss: 145.0569 - mae: 9.5693 - val_loss: 123.0465 - val_mae: 9.0708\n",
      "Epoch 50/500\n",
      "824/824 [==============================] - 0s 61us/sample - loss: 150.8384 - mae: 9.7678 - val_loss: 120.9618 - val_mae: 8.9897\n",
      "Epoch 51/500\n",
      "824/824 [==============================] - 0s 68us/sample - loss: 143.6462 - mae: 9.6075 - val_loss: 119.4026 - val_mae: 8.9307\n",
      "Epoch 52/500\n",
      "824/824 [==============================] - 0s 64us/sample - loss: 144.3577 - mae: 9.6564 - val_loss: 118.2364 - val_mae: 8.8736\n",
      "Epoch 53/500\n",
      "824/824 [==============================] - 0s 66us/sample - loss: 145.8860 - mae: 9.6659 - val_loss: 116.9623 - val_mae: 8.8201\n",
      "Epoch 54/500\n",
      "824/824 [==============================] - 0s 57us/sample - loss: 144.9513 - mae: 9.5728 - val_loss: 116.2773 - val_mae: 8.7859\n",
      "Epoch 55/500\n",
      "824/824 [==============================] - 0s 65us/sample - loss: 138.7859 - mae: 9.4704 - val_loss: 115.5457 - val_mae: 8.7481\n",
      "Epoch 56/500\n",
      "824/824 [==============================] - 0s 63us/sample - loss: 147.9034 - mae: 9.6681 - val_loss: 114.2071 - val_mae: 8.6930\n",
      "Epoch 57/500\n",
      "824/824 [==============================] - 0s 66us/sample - loss: 144.0145 - mae: 9.5224 - val_loss: 112.9258 - val_mae: 8.6386\n",
      "Epoch 58/500\n"
     ]
    },
    {
     "name": "stdout",
     "output_type": "stream",
     "text": [
      "824/824 [==============================] - 0s 61us/sample - loss: 141.6285 - mae: 9.4650 - val_loss: 112.4753 - val_mae: 8.6160\n",
      "Epoch 59/500\n",
      "824/824 [==============================] - 0s 59us/sample - loss: 133.9590 - mae: 9.1484 - val_loss: 111.3393 - val_mae: 8.5666\n",
      "Epoch 60/500\n",
      "824/824 [==============================] - 0s 61us/sample - loss: 141.9363 - mae: 9.4937 - val_loss: 110.2786 - val_mae: 8.5204\n",
      "Epoch 61/500\n",
      "824/824 [==============================] - 0s 54us/sample - loss: 144.0466 - mae: 9.4868 - val_loss: 109.6404 - val_mae: 8.4975\n",
      "Epoch 62/500\n",
      "824/824 [==============================] - 0s 59us/sample - loss: 137.3284 - mae: 9.2575 - val_loss: 108.7166 - val_mae: 8.4590\n",
      "Epoch 63/500\n",
      "824/824 [==============================] - 0s 56us/sample - loss: 131.3530 - mae: 9.0826 - val_loss: 108.4273 - val_mae: 8.4426\n",
      "Epoch 64/500\n",
      "824/824 [==============================] - 0s 56us/sample - loss: 134.4947 - mae: 9.2690 - val_loss: 108.2055 - val_mae: 8.4282\n",
      "Epoch 65/500\n",
      "824/824 [==============================] - 0s 56us/sample - loss: 142.0969 - mae: 9.4036 - val_loss: 107.7604 - val_mae: 8.4057\n",
      "Epoch 66/500\n",
      "824/824 [==============================] - 0s 55us/sample - loss: 145.1834 - mae: 9.4737 - val_loss: 106.5754 - val_mae: 8.3579\n",
      "Epoch 67/500\n",
      "824/824 [==============================] - 0s 59us/sample - loss: 141.9707 - mae: 9.5391 - val_loss: 106.0939 - val_mae: 8.3310\n",
      "Epoch 68/500\n",
      "824/824 [==============================] - 0s 58us/sample - loss: 134.6647 - mae: 9.2701 - val_loss: 106.1053 - val_mae: 8.3259\n",
      "Epoch 69/500\n",
      "824/824 [==============================] - 0s 52us/sample - loss: 132.7877 - mae: 9.2594 - val_loss: 106.2228 - val_mae: 8.3202\n",
      "Epoch 70/500\n",
      "824/824 [==============================] - 0s 54us/sample - loss: 130.8772 - mae: 9.1028 - val_loss: 105.0447 - val_mae: 8.2723\n",
      "Epoch 71/500\n",
      "824/824 [==============================] - 0s 54us/sample - loss: 135.9966 - mae: 9.1819 - val_loss: 104.4879 - val_mae: 8.2469\n",
      "Epoch 72/500\n",
      "824/824 [==============================] - 0s 55us/sample - loss: 129.2293 - mae: 8.9979 - val_loss: 103.9447 - val_mae: 8.2219\n",
      "Epoch 73/500\n",
      "824/824 [==============================] - 0s 58us/sample - loss: 134.3635 - mae: 9.1817 - val_loss: 103.7079 - val_mae: 8.2114\n",
      "Epoch 74/500\n",
      "824/824 [==============================] - 0s 50us/sample - loss: 133.3391 - mae: 9.1743 - val_loss: 103.2092 - val_mae: 8.1855\n",
      "Epoch 75/500\n",
      "824/824 [==============================] - 0s 50us/sample - loss: 133.1845 - mae: 9.1372 - val_loss: 102.9872 - val_mae: 8.1722\n",
      "Epoch 76/500\n",
      "824/824 [==============================] - 0s 58us/sample - loss: 132.2503 - mae: 8.9593 - val_loss: 102.8277 - val_mae: 8.1622\n",
      "Epoch 77/500\n",
      "824/824 [==============================] - 0s 54us/sample - loss: 131.4011 - mae: 9.1115 - val_loss: 102.8208 - val_mae: 8.1669\n",
      "Epoch 78/500\n",
      "824/824 [==============================] - 0s 54us/sample - loss: 127.8566 - mae: 9.1183 - val_loss: 102.1852 - val_mae: 8.1341\n",
      "Epoch 79/500\n",
      "824/824 [==============================] - 0s 56us/sample - loss: 126.6119 - mae: 8.8841 - val_loss: 101.6590 - val_mae: 8.1185\n",
      "Epoch 80/500\n",
      "824/824 [==============================] - 0s 54us/sample - loss: 130.0900 - mae: 9.0795 - val_loss: 100.6133 - val_mae: 8.0699\n",
      "Epoch 81/500\n",
      "824/824 [==============================] - 0s 52us/sample - loss: 140.2474 - mae: 9.3916 - val_loss: 100.2137 - val_mae: 8.0615\n",
      "Epoch 82/500\n",
      "824/824 [==============================] - 0s 56us/sample - loss: 126.1578 - mae: 8.8443 - val_loss: 99.8057 - val_mae: 8.0482\n",
      "Epoch 83/500\n",
      "824/824 [==============================] - 0s 56us/sample - loss: 125.2571 - mae: 8.9199 - val_loss: 98.7664 - val_mae: 7.9966\n",
      "Epoch 84/500\n",
      "824/824 [==============================] - 0s 59us/sample - loss: 135.7522 - mae: 9.1268 - val_loss: 98.0907 - val_mae: 7.9654\n",
      "Epoch 85/500\n",
      "824/824 [==============================] - 0s 62us/sample - loss: 138.1451 - mae: 9.3269 - val_loss: 98.1563 - val_mae: 7.9735\n",
      "Epoch 86/500\n",
      "824/824 [==============================] - 0s 59us/sample - loss: 129.5813 - mae: 8.9959 - val_loss: 98.0931 - val_mae: 7.9670\n",
      "Epoch 87/500\n",
      "824/824 [==============================] - 0s 61us/sample - loss: 128.1687 - mae: 8.9449 - val_loss: 97.6102 - val_mae: 7.9480\n",
      "Epoch 88/500\n",
      "824/824 [==============================] - 0s 59us/sample - loss: 134.7729 - mae: 9.1563 - val_loss: 96.6978 - val_mae: 7.9101\n",
      "Epoch 89/500\n",
      "824/824 [==============================] - 0s 55us/sample - loss: 123.7977 - mae: 8.8852 - val_loss: 96.4182 - val_mae: 7.8974\n",
      "Epoch 90/500\n",
      "824/824 [==============================] - 0s 60us/sample - loss: 124.0011 - mae: 8.8719 - val_loss: 96.1031 - val_mae: 7.8938\n",
      "Epoch 91/500\n",
      "824/824 [==============================] - 0s 53us/sample - loss: 124.9260 - mae: 8.8099 - val_loss: 95.2499 - val_mae: 7.8473\n",
      "Epoch 92/500\n",
      "824/824 [==============================] - 0s 59us/sample - loss: 129.9354 - mae: 8.8867 - val_loss: 94.4800 - val_mae: 7.8128\n",
      "Epoch 93/500\n",
      "824/824 [==============================] - 0s 54us/sample - loss: 124.3341 - mae: 8.8505 - val_loss: 93.8565 - val_mae: 7.7779\n",
      "Epoch 94/500\n",
      "824/824 [==============================] - 0s 58us/sample - loss: 127.3508 - mae: 8.9048 - val_loss: 93.4883 - val_mae: 7.7595\n",
      "Epoch 95/500\n",
      "824/824 [==============================] - 0s 52us/sample - loss: 124.0927 - mae: 8.7432 - val_loss: 93.3602 - val_mae: 7.7681\n",
      "Epoch 96/500\n",
      "824/824 [==============================] - 0s 56us/sample - loss: 124.0331 - mae: 8.8518 - val_loss: 93.6578 - val_mae: 7.7820\n",
      "Epoch 97/500\n",
      "824/824 [==============================] - 0s 62us/sample - loss: 123.1923 - mae: 8.7504 - val_loss: 92.7614 - val_mae: 7.7350\n",
      "Epoch 98/500\n",
      "824/824 [==============================] - 0s 49us/sample - loss: 121.4315 - mae: 8.6070 - val_loss: 92.3479 - val_mae: 7.6926\n",
      "Epoch 99/500\n",
      "824/824 [==============================] - 0s 57us/sample - loss: 128.4284 - mae: 8.8852 - val_loss: 92.9194 - val_mae: 7.7370\n",
      "Epoch 100/500\n",
      "824/824 [==============================] - 0s 80us/sample - loss: 130.0903 - mae: 8.8424 - val_loss: 92.3541 - val_mae: 7.7155\n",
      "Epoch 101/500\n",
      "824/824 [==============================] - 0s 46us/sample - loss: 118.3026 - mae: 8.5745 - val_loss: 91.1999 - val_mae: 7.6502\n",
      "Epoch 102/500\n",
      "824/824 [==============================] - 0s 48us/sample - loss: 122.5936 - mae: 8.7570 - val_loss: 90.3678 - val_mae: 7.6097\n",
      "Epoch 103/500\n",
      "824/824 [==============================] - 0s 45us/sample - loss: 119.2277 - mae: 8.6585 - val_loss: 90.0236 - val_mae: 7.6117\n",
      "Epoch 104/500\n",
      "824/824 [==============================] - 0s 47us/sample - loss: 125.1523 - mae: 8.5631 - val_loss: 90.1400 - val_mae: 7.6160\n",
      "Epoch 105/500\n",
      "824/824 [==============================] - 0s 46us/sample - loss: 126.6228 - mae: 8.7489 - val_loss: 88.9292 - val_mae: 7.5287\n",
      "Epoch 106/500\n",
      "824/824 [==============================] - 0s 48us/sample - loss: 124.6255 - mae: 8.8446 - val_loss: 89.1378 - val_mae: 7.5660\n",
      "Epoch 107/500\n",
      "824/824 [==============================] - 0s 48us/sample - loss: 120.8347 - mae: 8.6627 - val_loss: 90.5346 - val_mae: 7.6262\n",
      "Epoch 108/500\n",
      "824/824 [==============================] - 0s 53us/sample - loss: 115.3779 - mae: 8.5574 - val_loss: 88.0374 - val_mae: 7.5148\n",
      "Epoch 109/500\n",
      "824/824 [==============================] - 0s 47us/sample - loss: 117.1392 - mae: 8.5257 - val_loss: 87.2518 - val_mae: 7.4669\n",
      "Epoch 110/500\n",
      "824/824 [==============================] - 0s 47us/sample - loss: 124.5361 - mae: 8.5361 - val_loss: 86.6586 - val_mae: 7.4489\n",
      "Epoch 111/500\n",
      "824/824 [==============================] - 0s 45us/sample - loss: 121.4326 - mae: 8.6464 - val_loss: 86.7848 - val_mae: 7.4742\n",
      "Epoch 112/500\n",
      "824/824 [==============================] - 0s 43us/sample - loss: 120.4945 - mae: 8.6023 - val_loss: 87.1281 - val_mae: 7.4913\n",
      "Epoch 113/500\n",
      "824/824 [==============================] - 0s 49us/sample - loss: 114.6723 - mae: 8.4666 - val_loss: 85.4631 - val_mae: 7.3957\n",
      "Epoch 114/500\n",
      "824/824 [==============================] - 0s 50us/sample - loss: 109.0505 - mae: 8.2534 - val_loss: 85.1713 - val_mae: 7.3774\n",
      "Epoch 115/500\n",
      "824/824 [==============================] - 0s 51us/sample - loss: 115.9484 - mae: 8.5023 - val_loss: 85.0467 - val_mae: 7.3606\n",
      "Epoch 116/500\n"
     ]
    },
    {
     "name": "stdout",
     "output_type": "stream",
     "text": [
      "824/824 [==============================] - 0s 44us/sample - loss: 123.8339 - mae: 8.7369 - val_loss: 85.1897 - val_mae: 7.3800\n",
      "Epoch 117/500\n",
      "824/824 [==============================] - 0s 48us/sample - loss: 119.9784 - mae: 8.5123 - val_loss: 85.0835 - val_mae: 7.3711\n",
      "Epoch 118/500\n",
      "824/824 [==============================] - 0s 45us/sample - loss: 107.4702 - mae: 8.1756 - val_loss: 84.3748 - val_mae: 7.3215\n",
      "Epoch 119/500\n",
      "824/824 [==============================] - 0s 44us/sample - loss: 114.9516 - mae: 8.3827 - val_loss: 84.2128 - val_mae: 7.3142\n",
      "Epoch 120/500\n",
      "824/824 [==============================] - 0s 51us/sample - loss: 119.6317 - mae: 8.5236 - val_loss: 83.5278 - val_mae: 7.2740\n",
      "Epoch 121/500\n",
      "824/824 [==============================] - 0s 53us/sample - loss: 115.5921 - mae: 8.4597 - val_loss: 82.9209 - val_mae: 7.2482\n",
      "Epoch 122/500\n",
      "824/824 [==============================] - 0s 44us/sample - loss: 109.8130 - mae: 8.2407 - val_loss: 82.9554 - val_mae: 7.2782\n",
      "Epoch 123/500\n",
      "824/824 [==============================] - 0s 48us/sample - loss: 116.2456 - mae: 8.5052 - val_loss: 82.5538 - val_mae: 7.2671\n",
      "Epoch 124/500\n",
      "824/824 [==============================] - 0s 47us/sample - loss: 115.6460 - mae: 8.4466 - val_loss: 81.1021 - val_mae: 7.1854\n",
      "Epoch 125/500\n",
      "824/824 [==============================] - 0s 45us/sample - loss: 114.1231 - mae: 8.4883 - val_loss: 81.0138 - val_mae: 7.1713\n",
      "Epoch 126/500\n",
      "824/824 [==============================] - 0s 50us/sample - loss: 113.8383 - mae: 8.2850 - val_loss: 80.6734 - val_mae: 7.1628\n",
      "Epoch 127/500\n",
      "824/824 [==============================] - 0s 47us/sample - loss: 106.8275 - mae: 8.1085 - val_loss: 80.8473 - val_mae: 7.1792\n",
      "Epoch 128/500\n",
      "824/824 [==============================] - 0s 50us/sample - loss: 109.7790 - mae: 8.2421 - val_loss: 80.0058 - val_mae: 7.1203\n",
      "Epoch 129/500\n",
      "824/824 [==============================] - 0s 47us/sample - loss: 109.1917 - mae: 8.1788 - val_loss: 79.4595 - val_mae: 7.0776\n",
      "Epoch 130/500\n",
      "824/824 [==============================] - 0s 57us/sample - loss: 104.7377 - mae: 8.1042 - val_loss: 79.0874 - val_mae: 7.0627\n",
      "Epoch 131/500\n",
      "824/824 [==============================] - 0s 60us/sample - loss: 109.4178 - mae: 8.1681 - val_loss: 79.1541 - val_mae: 7.0636\n",
      "Epoch 132/500\n",
      "824/824 [==============================] - 0s 57us/sample - loss: 107.2253 - mae: 7.9781 - val_loss: 79.0667 - val_mae: 7.0692\n",
      "Epoch 133/500\n",
      "824/824 [==============================] - 0s 59us/sample - loss: 109.2518 - mae: 8.1412 - val_loss: 78.1086 - val_mae: 7.0356\n",
      "Epoch 134/500\n",
      "824/824 [==============================] - 0s 63us/sample - loss: 110.8966 - mae: 8.1462 - val_loss: 77.6916 - val_mae: 7.0327\n",
      "Epoch 135/500\n",
      "824/824 [==============================] - 0s 53us/sample - loss: 114.0698 - mae: 8.4000 - val_loss: 78.1711 - val_mae: 7.0639\n",
      "Epoch 136/500\n",
      "824/824 [==============================] - 0s 47us/sample - loss: 108.6986 - mae: 8.2376 - val_loss: 77.1561 - val_mae: 7.0027\n",
      "Epoch 137/500\n",
      "824/824 [==============================] - 0s 51us/sample - loss: 108.2246 - mae: 8.1514 - val_loss: 76.6434 - val_mae: 6.9704\n",
      "Epoch 138/500\n",
      "824/824 [==============================] - 0s 50us/sample - loss: 107.6121 - mae: 8.1080 - val_loss: 76.6778 - val_mae: 6.9581\n",
      "Epoch 139/500\n",
      "824/824 [==============================] - 0s 48us/sample - loss: 106.5488 - mae: 8.1070 - val_loss: 76.9229 - val_mae: 6.9573\n",
      "Epoch 140/500\n",
      "824/824 [==============================] - 0s 55us/sample - loss: 110.8810 - mae: 8.1832 - val_loss: 76.4815 - val_mae: 6.9301\n",
      "Epoch 141/500\n",
      "824/824 [==============================] - 0s 47us/sample - loss: 106.8185 - mae: 8.1925 - val_loss: 76.4603 - val_mae: 6.9206\n",
      "Epoch 142/500\n",
      "824/824 [==============================] - 0s 46us/sample - loss: 101.6458 - mae: 7.7804 - val_loss: 75.9459 - val_mae: 6.8946\n",
      "Epoch 143/500\n",
      "824/824 [==============================] - 0s 47us/sample - loss: 107.4218 - mae: 8.0170 - val_loss: 76.1019 - val_mae: 6.9132\n",
      "Epoch 144/500\n",
      "824/824 [==============================] - 0s 46us/sample - loss: 112.0320 - mae: 8.0949 - val_loss: 74.6537 - val_mae: 6.8601\n",
      "Epoch 145/500\n",
      "824/824 [==============================] - 0s 49us/sample - loss: 107.2307 - mae: 7.9763 - val_loss: 74.8327 - val_mae: 6.8678\n",
      "Epoch 146/500\n",
      "824/824 [==============================] - 0s 48us/sample - loss: 102.7330 - mae: 7.9650 - val_loss: 75.1959 - val_mae: 6.8772\n",
      "Epoch 147/500\n",
      "824/824 [==============================] - 0s 51us/sample - loss: 103.8795 - mae: 7.9415 - val_loss: 73.6266 - val_mae: 6.8233\n",
      "Epoch 148/500\n",
      "824/824 [==============================] - 0s 52us/sample - loss: 107.8310 - mae: 7.9474 - val_loss: 73.4107 - val_mae: 6.8149\n",
      "Epoch 149/500\n",
      "824/824 [==============================] - 0s 45us/sample - loss: 104.8310 - mae: 7.8867 - val_loss: 73.5993 - val_mae: 6.8283\n",
      "Epoch 150/500\n",
      "824/824 [==============================] - 0s 46us/sample - loss: 96.8504 - mae: 7.5496 - val_loss: 72.6201 - val_mae: 6.7978\n",
      "Epoch 151/500\n",
      "824/824 [==============================] - 0s 46us/sample - loss: 101.4848 - mae: 7.8722 - val_loss: 71.8357 - val_mae: 6.7725\n",
      "Epoch 152/500\n",
      "824/824 [==============================] - 0s 52us/sample - loss: 108.7741 - mae: 8.1424 - val_loss: 72.0568 - val_mae: 6.7761\n",
      "Epoch 153/500\n",
      "824/824 [==============================] - 0s 46us/sample - loss: 99.0796 - mae: 7.7387 - val_loss: 72.0002 - val_mae: 6.7572\n",
      "Epoch 154/500\n",
      "824/824 [==============================] - 0s 44us/sample - loss: 99.3683 - mae: 7.7396 - val_loss: 71.3641 - val_mae: 6.7219\n",
      "Epoch 155/500\n",
      "824/824 [==============================] - 0s 53us/sample - loss: 100.1263 - mae: 7.8504 - val_loss: 70.6854 - val_mae: 6.6926\n",
      "Epoch 156/500\n",
      "824/824 [==============================] - 0s 60us/sample - loss: 102.5961 - mae: 7.9002 - val_loss: 70.9866 - val_mae: 6.6994\n",
      "Epoch 157/500\n",
      "824/824 [==============================] - 0s 46us/sample - loss: 98.7922 - mae: 7.7314 - val_loss: 70.4631 - val_mae: 6.6780\n",
      "Epoch 158/500\n",
      "824/824 [==============================] - 0s 48us/sample - loss: 101.4462 - mae: 7.7217 - val_loss: 70.7434 - val_mae: 6.6842\n",
      "Epoch 159/500\n",
      "824/824 [==============================] - 0s 50us/sample - loss: 100.7511 - mae: 7.7930 - val_loss: 69.6202 - val_mae: 6.6413\n",
      "Epoch 160/500\n",
      "824/824 [==============================] - 0s 49us/sample - loss: 103.2493 - mae: 7.8156 - val_loss: 69.3319 - val_mae: 6.6213\n",
      "Epoch 161/500\n",
      "824/824 [==============================] - 0s 46us/sample - loss: 96.7564 - mae: 7.5649 - val_loss: 68.7013 - val_mae: 6.5737\n",
      "Epoch 162/500\n",
      "824/824 [==============================] - 0s 50us/sample - loss: 99.1477 - mae: 7.6668 - val_loss: 68.6810 - val_mae: 6.5485\n",
      "Epoch 163/500\n",
      "824/824 [==============================] - 0s 43us/sample - loss: 94.7073 - mae: 7.5467 - val_loss: 68.2247 - val_mae: 6.5337\n",
      "Epoch 164/500\n",
      "824/824 [==============================] - 0s 47us/sample - loss: 99.9172 - mae: 7.6912 - val_loss: 68.8397 - val_mae: 6.5825\n",
      "Epoch 165/500\n",
      "824/824 [==============================] - 0s 47us/sample - loss: 101.5624 - mae: 7.7582 - val_loss: 67.7159 - val_mae: 6.5448\n",
      "Epoch 166/500\n",
      "824/824 [==============================] - 0s 48us/sample - loss: 98.0247 - mae: 7.6788 - val_loss: 67.6252 - val_mae: 6.5484\n",
      "Epoch 167/500\n",
      "824/824 [==============================] - 0s 54us/sample - loss: 105.5512 - mae: 7.9044 - val_loss: 67.4526 - val_mae: 6.5525\n",
      "Epoch 168/500\n",
      "824/824 [==============================] - 0s 49us/sample - loss: 99.1220 - mae: 7.7543 - val_loss: 69.2393 - val_mae: 6.6154\n",
      "Epoch 169/500\n",
      "824/824 [==============================] - 0s 61us/sample - loss: 96.6273 - mae: 7.6093 - val_loss: 66.6644 - val_mae: 6.5218\n",
      "Epoch 170/500\n",
      "824/824 [==============================] - 0s 51us/sample - loss: 96.4436 - mae: 7.5890 - val_loss: 66.3716 - val_mae: 6.5036\n",
      "Epoch 171/500\n",
      "824/824 [==============================] - 0s 48us/sample - loss: 95.1756 - mae: 7.6178 - val_loss: 66.5689 - val_mae: 6.4825\n",
      "Epoch 172/500\n",
      "824/824 [==============================] - 0s 49us/sample - loss: 101.1382 - mae: 7.7367 - val_loss: 65.8714 - val_mae: 6.4624\n",
      "Epoch 173/500\n",
      "824/824 [==============================] - 0s 47us/sample - loss: 95.7655 - mae: 7.6651 - val_loss: 65.5788 - val_mae: 6.4442\n",
      "Epoch 174/500\n"
     ]
    },
    {
     "name": "stdout",
     "output_type": "stream",
     "text": [
      "824/824 [==============================] - 0s 52us/sample - loss: 94.6630 - mae: 7.5050 - val_loss: 64.9081 - val_mae: 6.4171\n",
      "Epoch 175/500\n",
      "824/824 [==============================] - 0s 45us/sample - loss: 97.5175 - mae: 7.6647 - val_loss: 65.5853 - val_mae: 6.4124\n",
      "Epoch 176/500\n",
      "824/824 [==============================] - 0s 46us/sample - loss: 94.8387 - mae: 7.5844 - val_loss: 64.2710 - val_mae: 6.3649\n",
      "Epoch 177/500\n",
      "824/824 [==============================] - 0s 52us/sample - loss: 105.1628 - mae: 7.7978 - val_loss: 63.8068 - val_mae: 6.3492\n",
      "Epoch 178/500\n",
      "824/824 [==============================] - 0s 50us/sample - loss: 95.5674 - mae: 7.4374 - val_loss: 65.3879 - val_mae: 6.3960\n",
      "Epoch 179/500\n",
      "824/824 [==============================] - 0s 50us/sample - loss: 96.2149 - mae: 7.5232 - val_loss: 63.9465 - val_mae: 6.3516\n",
      "Epoch 180/500\n",
      "824/824 [==============================] - 0s 46us/sample - loss: 88.5680 - mae: 7.3505 - val_loss: 62.8950 - val_mae: 6.3306\n",
      "Epoch 181/500\n",
      "824/824 [==============================] - 0s 52us/sample - loss: 93.2231 - mae: 7.2825 - val_loss: 63.2866 - val_mae: 6.3086\n",
      "Epoch 182/500\n",
      "824/824 [==============================] - 0s 44us/sample - loss: 97.6189 - mae: 7.5608 - val_loss: 64.6705 - val_mae: 6.3510\n",
      "Epoch 183/500\n",
      "824/824 [==============================] - 0s 51us/sample - loss: 93.0401 - mae: 7.3996 - val_loss: 62.4629 - val_mae: 6.3299\n",
      "Epoch 184/500\n",
      "824/824 [==============================] - 0s 41us/sample - loss: 96.3478 - mae: 7.3111 - val_loss: 62.7497 - val_mae: 6.2967\n",
      "Epoch 185/500\n",
      "824/824 [==============================] - 0s 43us/sample - loss: 97.5888 - mae: 7.4807 - val_loss: 62.3025 - val_mae: 6.2842\n",
      "Epoch 186/500\n",
      "824/824 [==============================] - 0s 45us/sample - loss: 91.6510 - mae: 7.3949 - val_loss: 61.4606 - val_mae: 6.2764\n",
      "Epoch 187/500\n",
      "824/824 [==============================] - 0s 44us/sample - loss: 89.6749 - mae: 7.2523 - val_loss: 61.3298 - val_mae: 6.2609\n",
      "Epoch 188/500\n",
      "824/824 [==============================] - 0s 42us/sample - loss: 88.3252 - mae: 7.1861 - val_loss: 62.9194 - val_mae: 6.2915\n",
      "Epoch 189/500\n",
      "824/824 [==============================] - 0s 47us/sample - loss: 94.8397 - mae: 7.3386 - val_loss: 61.1527 - val_mae: 6.2256\n",
      "Epoch 190/500\n",
      "824/824 [==============================] - 0s 50us/sample - loss: 90.3895 - mae: 7.4022 - val_loss: 60.9588 - val_mae: 6.2265\n",
      "Epoch 191/500\n",
      "824/824 [==============================] - 0s 47us/sample - loss: 95.2726 - mae: 7.4801 - val_loss: 62.5523 - val_mae: 6.2266\n",
      "Epoch 192/500\n",
      "824/824 [==============================] - 0s 47us/sample - loss: 92.9036 - mae: 7.3298 - val_loss: 61.6812 - val_mae: 6.2080\n",
      "Epoch 193/500\n",
      "824/824 [==============================] - 0s 46us/sample - loss: 85.2255 - mae: 6.9991 - val_loss: 60.7185 - val_mae: 6.1858\n",
      "Epoch 194/500\n",
      "824/824 [==============================] - 0s 50us/sample - loss: 87.8120 - mae: 7.2629 - val_loss: 61.6413 - val_mae: 6.1957\n",
      "Epoch 195/500\n",
      "824/824 [==============================] - 0s 57us/sample - loss: 96.1306 - mae: 7.4575 - val_loss: 61.0094 - val_mae: 6.1937\n",
      "Epoch 196/500\n",
      "824/824 [==============================] - 0s 51us/sample - loss: 88.2898 - mae: 7.2543 - val_loss: 61.5840 - val_mae: 6.1906\n",
      "Epoch 00196: early stopping\n"
     ]
    },
    {
     "data": {
      "text/plain": [
       "<tensorflow.python.keras.callbacks.History at 0x7f24d64dc3d0>"
      ]
     },
     "execution_count": 66,
     "metadata": {},
     "output_type": "execute_result"
    }
   ],
   "source": [
    "model.fit(X_train, y_train, batch_size=128, epochs=500, verbose=1, callbacks=[early_stop], validation_data=(X_test, y_test))"
   ]
  },
  {
   "cell_type": "code",
   "execution_count": 67,
   "metadata": {},
   "outputs": [],
   "source": [
    "metrics = pd.DataFrame(model.history.history)"
   ]
  },
  {
   "cell_type": "code",
   "execution_count": 68,
   "metadata": {},
   "outputs": [
    {
     "data": {
      "text/plain": [
       "<matplotlib.axes._subplots.AxesSubplot at 0x7f24d5dd6b10>"
      ]
     },
     "execution_count": 68,
     "metadata": {},
     "output_type": "execute_result"
    },
    {
     "data": {
      "image/png": "[encoded data removed]",
      "text/plain": [
       "<Figure size 432x288 with 1 Axes>"
      ]
     },
     "metadata": {
      "needs_background": "light"
     },
     "output_type": "display_data"
    }
   ],
   "source": [
    "metrics[['loss', 'val_loss']].plot()"
   ]
  },
  {
   "cell_type": "code",
   "execution_count": 69,
   "metadata": {},
   "outputs": [
    {
     "data": {
      "text/plain": [
       "<matplotlib.axes._subplots.AxesSubplot at 0x7f24d5d5cc50>"
      ]
     },
     "execution_count": 69,
     "metadata": {},
     "output_type": "execute_result"
    },
    {
     "data": {
      "image/png": "[encoded data removed]",
      "text/plain": [
       "<Figure size 432x288 with 1 Axes>"
      ]
     },
     "metadata": {
      "needs_background": "light"
     },
     "output_type": "display_data"
    }
   ],
   "source": [
    "metrics[['mae', 'val_mae']].plot()"
   ]
  },
  {
   "cell_type": "code",
   "execution_count": 70,
   "metadata": {},
   "outputs": [],
   "source": [
    "from sklearn.metrics import mean_absolute_error, mean_squared_error, explained_variance_score"
   ]
  },
  {
   "cell_type": "code",
   "execution_count": 71,
   "metadata": {},
   "outputs": [],
   "source": [
    "predictions = model.predict(X_test)"
   ]
  },
  {
   "cell_type": "code",
   "execution_count": 72,
   "metadata": {},
   "outputs": [
    {
     "data": {
      "text/plain": [
       "61.584008606410826"
      ]
     },
     "execution_count": 72,
     "metadata": {},
     "output_type": "execute_result"
    }
   ],
   "source": [
    "mserror = mean_squared_error(y_test, predictions)\n",
    "mserror"
   ]
  },
  {
   "cell_type": "code",
   "execution_count": 73,
   "metadata": {},
   "outputs": [
    {
     "data": {
      "text/plain": [
       "7.847547935910352"
      ]
     },
     "execution_count": 73,
     "metadata": {},
     "output_type": "execute_result"
    }
   ],
   "source": [
    "np.sqrt(mserror)"
   ]
  },
  {
   "cell_type": "code",
   "execution_count": 74,
   "metadata": {},
   "outputs": [
    {
     "data": {
      "text/plain": [
       "6.1906152649296144"
      ]
     },
     "execution_count": 74,
     "metadata": {},
     "output_type": "execute_result"
    }
   ],
   "source": [
    "mean_absolute_error(y_test, predictions)"
   ]
  },
  {
   "cell_type": "code",
   "execution_count": 75,
   "metadata": {},
   "outputs": [
    {
     "data": {
      "text/plain": [
       "count    1030.000000\n",
       "mean       35.817961\n",
       "std        16.705742\n",
       "min         2.330000\n",
       "25%        23.710000\n",
       "50%        34.445000\n",
       "75%        46.135000\n",
       "max        82.600000\n",
       "Name: Concrete compressive strength(MPa, megapascals) , dtype: float64"
      ]
     },
     "execution_count": 75,
     "metadata": {},
     "output_type": "execute_result"
    }
   ],
   "source": [
    "df.iloc[:,-1].describe()"
   ]
  },
  {
   "cell_type": "code",
   "execution_count": 76,
   "metadata": {},
   "outputs": [
    {
     "data": {
      "text/plain": [
       "0.7667426518047917"
      ]
     },
     "execution_count": 76,
     "metadata": {},
     "output_type": "execute_result"
    }
   ],
   "source": [
    "explained_variance_score(y_test, predictions)"
   ]
  },
  {
   "cell_type": "code",
   "execution_count": null,
   "metadata": {},
   "outputs": [],
   "source": [
    "model."
   ]
  }
 ],
 "metadata": {
  "kernelspec": {
   "display_name": "Python 3",
   "language": "python",
   "name": "python3"
  },
  "language_info": {
   "codemirror_mode": {
    "name": "ipython",
    "version": 3
   },
   "file_extension": ".py",
   "mimetype": "text/x-python",
   "name": "python",
   "nbconvert_exporter": "python",
   "pygments_lexer": "ipython3",
   "version": "3.7.4"
  }
 },
 "nbformat": 4,
 "nbformat_minor": 2
}
