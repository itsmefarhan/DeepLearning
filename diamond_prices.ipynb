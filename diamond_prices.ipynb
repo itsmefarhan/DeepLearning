{
 "cells": [
  {
   "cell_type": "code",
   "execution_count": 1,
   "metadata": {},
   "outputs": [],
   "source": [
    "import numpy as np\n",
    "import pandas as pd\n",
    "import matplotlib.pyplot as plt"
   ]
  },
  {
   "cell_type": "code",
   "execution_count": 2,
   "metadata": {},
   "outputs": [],
   "source": [
    "df = pd.read_csv('datasets/diamonds.csv')"
   ]
  },
  {
   "cell_type": "code",
   "execution_count": 3,
   "metadata": {},
   "outputs": [
    {
     "data": {
      "text/html": [
       "<div>\n",
       "<style scoped>\n",
       "    .dataframe tbody tr th:only-of-type {\n",
       "        vertical-align: middle;\n",
       "    }\n",
       "\n",
       "    .dataframe tbody tr th {\n",
       "        vertical-align: top;\n",
       "    }\n",
       "\n",
       "    .dataframe thead th {\n",
       "        text-align: right;\n",
       "    }\n",
       "</style>\n",
       "<table border=\"1\" class=\"dataframe\">\n",
       "  <thead>\n",
       "    <tr style=\"text-align: right;\">\n",
       "      <th></th>\n",
       "      <th>carat</th>\n",
       "      <th>cut</th>\n",
       "      <th>color</th>\n",
       "      <th>clarity</th>\n",
       "      <th>depth</th>\n",
       "      <th>table</th>\n",
       "      <th>price</th>\n",
       "      <th>x</th>\n",
       "      <th>y</th>\n",
       "      <th>z</th>\n",
       "    </tr>\n",
       "  </thead>\n",
       "  <tbody>\n",
       "    <tr>\n",
       "      <td>0</td>\n",
       "      <td>0.23</td>\n",
       "      <td>Ideal</td>\n",
       "      <td>E</td>\n",
       "      <td>SI2</td>\n",
       "      <td>61.5</td>\n",
       "      <td>55.0</td>\n",
       "      <td>326</td>\n",
       "      <td>3.95</td>\n",
       "      <td>3.98</td>\n",
       "      <td>2.43</td>\n",
       "    </tr>\n",
       "    <tr>\n",
       "      <td>1</td>\n",
       "      <td>0.21</td>\n",
       "      <td>Premium</td>\n",
       "      <td>E</td>\n",
       "      <td>SI1</td>\n",
       "      <td>59.8</td>\n",
       "      <td>61.0</td>\n",
       "      <td>326</td>\n",
       "      <td>3.89</td>\n",
       "      <td>3.84</td>\n",
       "      <td>2.31</td>\n",
       "    </tr>\n",
       "    <tr>\n",
       "      <td>2</td>\n",
       "      <td>0.23</td>\n",
       "      <td>Good</td>\n",
       "      <td>E</td>\n",
       "      <td>VS1</td>\n",
       "      <td>56.9</td>\n",
       "      <td>65.0</td>\n",
       "      <td>327</td>\n",
       "      <td>4.05</td>\n",
       "      <td>4.07</td>\n",
       "      <td>2.31</td>\n",
       "    </tr>\n",
       "    <tr>\n",
       "      <td>3</td>\n",
       "      <td>0.29</td>\n",
       "      <td>Premium</td>\n",
       "      <td>I</td>\n",
       "      <td>VS2</td>\n",
       "      <td>62.4</td>\n",
       "      <td>58.0</td>\n",
       "      <td>334</td>\n",
       "      <td>4.20</td>\n",
       "      <td>4.23</td>\n",
       "      <td>2.63</td>\n",
       "    </tr>\n",
       "    <tr>\n",
       "      <td>4</td>\n",
       "      <td>0.31</td>\n",
       "      <td>Good</td>\n",
       "      <td>J</td>\n",
       "      <td>SI2</td>\n",
       "      <td>63.3</td>\n",
       "      <td>58.0</td>\n",
       "      <td>335</td>\n",
       "      <td>4.34</td>\n",
       "      <td>4.35</td>\n",
       "      <td>2.75</td>\n",
       "    </tr>\n",
       "  </tbody>\n",
       "</table>\n",
       "</div>"
      ],
      "text/plain": [
       "   carat      cut color clarity  depth  table  price     x     y     z\n",
       "0   0.23    Ideal     E     SI2   61.5   55.0    326  3.95  3.98  2.43\n",
       "1   0.21  Premium     E     SI1   59.8   61.0    326  3.89  3.84  2.31\n",
       "2   0.23     Good     E     VS1   56.9   65.0    327  4.05  4.07  2.31\n",
       "3   0.29  Premium     I     VS2   62.4   58.0    334  4.20  4.23  2.63\n",
       "4   0.31     Good     J     SI2   63.3   58.0    335  4.34  4.35  2.75"
      ]
     },
     "execution_count": 3,
     "metadata": {},
     "output_type": "execute_result"
    }
   ],
   "source": [
    "df.head()"
   ]
  },
  {
   "cell_type": "code",
   "execution_count": 4,
   "metadata": {},
   "outputs": [
    {
     "data": {
      "text/plain": [
       "(53940, 10)"
      ]
     },
     "execution_count": 4,
     "metadata": {},
     "output_type": "execute_result"
    }
   ],
   "source": [
    "df.shape"
   ]
  },
  {
   "cell_type": "code",
   "execution_count": 8,
   "metadata": {},
   "outputs": [
    {
     "data": {
      "text/plain": [
       "array(['SI2', 'SI1', 'VS1', 'VS2', 'VVS2', 'VVS1', 'I1', 'IF'],\n",
       "      dtype=object)"
      ]
     },
     "execution_count": 8,
     "metadata": {},
     "output_type": "execute_result"
    }
   ],
   "source": [
    "df['clarity'].unique()"
   ]
  },
  {
   "cell_type": "code",
   "execution_count": 6,
   "metadata": {},
   "outputs": [
    {
     "data": {
      "text/plain": [
       "array(['Ideal', 'Premium', 'Good', 'Very Good', 'Fair'], dtype=object)"
      ]
     },
     "execution_count": 6,
     "metadata": {},
     "output_type": "execute_result"
    }
   ],
   "source": [
    "df['cut'].unique()"
   ]
  },
  {
   "cell_type": "code",
   "execution_count": 7,
   "metadata": {},
   "outputs": [
    {
     "data": {
      "text/plain": [
       "carat      0\n",
       "cut        0\n",
       "color      0\n",
       "clarity    0\n",
       "depth      0\n",
       "table      0\n",
       "price      0\n",
       "x          0\n",
       "y          0\n",
       "z          0\n",
       "dtype: int64"
      ]
     },
     "execution_count": 7,
     "metadata": {},
     "output_type": "execute_result"
    }
   ],
   "source": [
    "df.isnull().sum()"
   ]
  },
  {
   "cell_type": "code",
   "execution_count": 10,
   "metadata": {},
   "outputs": [],
   "source": [
    "X = df.drop('price', axis=1).values"
   ]
  },
  {
   "cell_type": "code",
   "execution_count": 11,
   "metadata": {},
   "outputs": [],
   "source": [
    "y = df['price'].values"
   ]
  },
  {
   "cell_type": "code",
   "execution_count": 15,
   "metadata": {},
   "outputs": [],
   "source": [
    "from sklearn.preprocessing import LabelEncoder\n",
    "encoder = LabelEncoder()"
   ]
  },
  {
   "cell_type": "code",
   "execution_count": 19,
   "metadata": {},
   "outputs": [],
   "source": [
    "X[:, 1] = encoder.fit_transform(X[:, 1])"
   ]
  },
  {
   "cell_type": "code",
   "execution_count": 20,
   "metadata": {},
   "outputs": [],
   "source": [
    "X[:, 2] = encoder.fit_transform(X[:, 2])"
   ]
  },
  {
   "cell_type": "code",
   "execution_count": 21,
   "metadata": {},
   "outputs": [],
   "source": [
    "X[:, 3] = encoder.fit_transform(X[:, 3])"
   ]
  },
  {
   "cell_type": "code",
   "execution_count": 24,
   "metadata": {},
   "outputs": [],
   "source": [
    "# split data\n",
    "from sklearn.model_selection import train_test_split"
   ]
  },
  {
   "cell_type": "code",
   "execution_count": 25,
   "metadata": {},
   "outputs": [],
   "source": [
    "X_train, X_test, y_train, y_test = train_test_split(X, y, test_size=0.3, random_state=42)"
   ]
  },
  {
   "cell_type": "code",
   "execution_count": 26,
   "metadata": {},
   "outputs": [],
   "source": [
    "# Scale data\n",
    "from sklearn.preprocessing import MinMaxScaler"
   ]
  },
  {
   "cell_type": "code",
   "execution_count": 27,
   "metadata": {},
   "outputs": [],
   "source": [
    "scaler = MinMaxScaler()"
   ]
  },
  {
   "cell_type": "code",
   "execution_count": 28,
   "metadata": {},
   "outputs": [],
   "source": [
    "X_train = scaler.fit_transform(X_train)\n",
    "X_test = scaler.transform(X_test)"
   ]
  },
  {
   "cell_type": "code",
   "execution_count": 29,
   "metadata": {},
   "outputs": [],
   "source": [
    "from tensorflow.keras.models import Sequential\n",
    "from tensorflow.keras.layers import Dense, Dropout"
   ]
  },
  {
   "cell_type": "code",
   "execution_count": 37,
   "metadata": {},
   "outputs": [],
   "source": [
    "model = Sequential()\n",
    "model.add(Dense(128, activation='relu'))\n",
    "model.add(Dropout(0.5))\n",
    "model.add(Dense(64, activation='relu'))\n",
    "model.add(Dropout(0.5))\n",
    "model.add(Dense(1))\n",
    "model.compile(optimizer='adam', loss='mse', metrics=['mae'])"
   ]
  },
  {
   "cell_type": "code",
   "execution_count": 38,
   "metadata": {},
   "outputs": [],
   "source": [
    "from tensorflow.keras.callbacks import EarlyStopping\n",
    "early_stop = EarlyStopping(monitor='val_loss', mode='min', verbose=1, patience=5)"
   ]
  },
  {
   "cell_type": "code",
   "execution_count": 39,
   "metadata": {},
   "outputs": [
    {
     "name": "stdout",
     "output_type": "stream",
     "text": [
      "Train on 37758 samples, validate on 16182 samples\n",
      "Epoch 1/1000\n",
      "37758/37758 [==============================] - 2s 51us/sample - loss: 27537086.7953 - mae: 3508.0171 - val_loss: 17131045.8010 - val_mae: 2664.8625\n",
      "Epoch 2/1000\n",
      "37758/37758 [==============================] - 1s 35us/sample - loss: 15113759.5964 - mae: 2828.9771 - val_loss: 13330851.3443 - val_mae: 2762.0146\n",
      "Epoch 3/1000\n",
      "37758/37758 [==============================] - 1s 34us/sample - loss: 14011032.0171 - mae: 2817.6877 - val_loss: 12489954.2293 - val_mae: 2678.1069\n",
      "Epoch 4/1000\n",
      "37758/37758 [==============================] - 1s 34us/sample - loss: 12953161.3977 - mae: 2707.1702 - val_loss: 11288851.7049 - val_mae: 2536.0007\n",
      "Epoch 5/1000\n",
      "37758/37758 [==============================] - 1s 35us/sample - loss: 11539993.7430 - mae: 2531.1699 - val_loss: 9526901.6953 - val_mae: 2306.1794\n",
      "Epoch 6/1000\n",
      "37758/37758 [==============================] - 1s 34us/sample - loss: 9334152.8451 - mae: 2226.0764 - val_loss: 7135196.8600 - val_mae: 1919.1896\n",
      "Epoch 7/1000\n",
      "37758/37758 [==============================] - 1s 34us/sample - loss: 6917054.1441 - mae: 1817.7933 - val_loss: 4758236.5637 - val_mae: 1464.9872\n",
      "Epoch 8/1000\n",
      "37758/37758 [==============================] - 1s 35us/sample - loss: 4919396.6535 - mae: 1436.9849 - val_loss: 3197062.0899 - val_mae: 1140.5719\n",
      "Epoch 9/1000\n",
      "37758/37758 [==============================] - 1s 35us/sample - loss: 3863154.9100 - mae: 1216.1394 - val_loss: 2400679.6988 - val_mae: 925.6371\n",
      "Epoch 10/1000\n",
      "37758/37758 [==============================] - 1s 36us/sample - loss: 3277594.7020 - mae: 1103.7037 - val_loss: 1943373.1628 - val_mae: 813.6691\n",
      "Epoch 11/1000\n",
      "37758/37758 [==============================] - 1s 35us/sample - loss: 3064179.0508 - mae: 1047.8794 - val_loss: 1679601.0019 - val_mae: 757.0766\n",
      "Epoch 12/1000\n",
      "37758/37758 [==============================] - 1s 35us/sample - loss: 2802829.4811 - mae: 1001.8678 - val_loss: 1581137.6430 - val_mae: 722.6567\n",
      "Epoch 13/1000\n",
      "37758/37758 [==============================] - 1s 35us/sample - loss: 2724639.0764 - mae: 986.4638 - val_loss: 1475271.9299 - val_mae: 701.8173\n",
      "Epoch 14/1000\n",
      "37758/37758 [==============================] - 1s 35us/sample - loss: 2640876.0899 - mae: 958.9785 - val_loss: 1442653.6714 - val_mae: 688.3510\n",
      "Epoch 15/1000\n",
      "37758/37758 [==============================] - 1s 35us/sample - loss: 2544880.4494 - mae: 942.3597 - val_loss: 1375114.2912 - val_mae: 671.3331\n",
      "Epoch 16/1000\n",
      "37758/37758 [==============================] - 1s 36us/sample - loss: 2614955.8686 - mae: 937.8420 - val_loss: 1379595.0460 - val_mae: 665.3118\n",
      "Epoch 17/1000\n",
      "37758/37758 [==============================] - 1s 35us/sample - loss: 2597536.0013 - mae: 933.8599 - val_loss: 1361343.8555 - val_mae: 658.1320\n",
      "Epoch 18/1000\n",
      "37758/37758 [==============================] - 1s 35us/sample - loss: 2648064.5988 - mae: 932.9047 - val_loss: 1342736.4926 - val_mae: 652.9622\n",
      "Epoch 19/1000\n",
      "37758/37758 [==============================] - 1s 34us/sample - loss: 2506887.4058 - mae: 915.1055 - val_loss: 1330622.7712 - val_mae: 647.0535\n",
      "Epoch 20/1000\n",
      "37758/37758 [==============================] - 1s 35us/sample - loss: 2560170.5983 - mae: 917.0247 - val_loss: 1344254.4773 - val_mae: 648.6861\n",
      "Epoch 21/1000\n",
      "37758/37758 [==============================] - 1s 35us/sample - loss: 2565570.2182 - mae: 911.3523 - val_loss: 1405055.7724 - val_mae: 661.1669\n",
      "Epoch 22/1000\n",
      "37758/37758 [==============================] - 1s 35us/sample - loss: 2490845.5427 - mae: 900.9518 - val_loss: 1307415.8261 - val_mae: 631.3252\n",
      "Epoch 23/1000\n",
      "37758/37758 [==============================] - 1s 34us/sample - loss: 2526590.2754 - mae: 905.5859 - val_loss: 1319057.2213 - val_mae: 633.9816\n",
      "Epoch 24/1000\n",
      "37758/37758 [==============================] - 1s 35us/sample - loss: 2523814.3376 - mae: 903.2690 - val_loss: 1300421.3755 - val_mae: 630.0555\n",
      "Epoch 25/1000\n",
      "37758/37758 [==============================] - 1s 35us/sample - loss: 2502860.6567 - mae: 901.6998 - val_loss: 1293173.3572 - val_mae: 628.0540\n",
      "Epoch 26/1000\n",
      "37758/37758 [==============================] - 1s 35us/sample - loss: 2493427.2417 - mae: 894.5721 - val_loss: 1288702.2416 - val_mae: 623.7622\n",
      "Epoch 27/1000\n",
      "37758/37758 [==============================] - 1s 35us/sample - loss: 2527693.9854 - mae: 897.2947 - val_loss: 1286448.9292 - val_mae: 622.8442\n",
      "Epoch 28/1000\n",
      "37758/37758 [==============================] - 1s 35us/sample - loss: 2532170.4976 - mae: 891.6419 - val_loss: 1289474.0746 - val_mae: 624.6033\n",
      "Epoch 29/1000\n",
      "37758/37758 [==============================] - 1s 39us/sample - loss: 2523116.8099 - mae: 892.1586 - val_loss: 1276947.5291 - val_mae: 619.2037\n",
      "Epoch 30/1000\n",
      "37758/37758 [==============================] - 1s 36us/sample - loss: 2495507.8447 - mae: 887.0696 - val_loss: 1280985.6465 - val_mae: 616.1627\n",
      "Epoch 31/1000\n",
      "37758/37758 [==============================] - 1s 35us/sample - loss: 2520019.5562 - mae: 891.0825 - val_loss: 1305474.4106 - val_mae: 622.5204\n",
      "Epoch 32/1000\n",
      "37758/37758 [==============================] - 1s 36us/sample - loss: 2445063.1836 - mae: 888.5334 - val_loss: 1257927.0301 - val_mae: 613.1447\n",
      "Epoch 33/1000\n",
      "37758/37758 [==============================] - 1s 36us/sample - loss: 2486060.7244 - mae: 886.6674 - val_loss: 1259878.4188 - val_mae: 610.5806\n",
      "Epoch 34/1000\n",
      "37758/37758 [==============================] - 1s 34us/sample - loss: 2463737.4972 - mae: 884.8683 - val_loss: 1240969.3035 - val_mae: 606.2305\n",
      "Epoch 35/1000\n",
      "37758/37758 [==============================] - 1s 36us/sample - loss: 2486844.2345 - mae: 884.6066 - val_loss: 1283025.5731 - val_mae: 613.6359\n",
      "Epoch 36/1000\n",
      "37758/37758 [==============================] - 1s 35us/sample - loss: 2467599.6117 - mae: 879.3195 - val_loss: 1238322.8889 - val_mae: 606.7653\n",
      "Epoch 37/1000\n",
      "37758/37758 [==============================] - 1s 35us/sample - loss: 2477109.9961 - mae: 885.6420 - val_loss: 1288419.2494 - val_mae: 617.8640\n",
      "Epoch 38/1000\n",
      "37758/37758 [==============================] - 1s 38us/sample - loss: 2446681.2657 - mae: 880.8432 - val_loss: 1258584.7520 - val_mae: 606.5444\n",
      "Epoch 39/1000\n",
      "37758/37758 [==============================] - 1s 36us/sample - loss: 2428880.6691 - mae: 878.3248 - val_loss: 1250527.1060 - val_mae: 604.3716\n",
      "Epoch 40/1000\n",
      "37758/37758 [==============================] - 1s 35us/sample - loss: 2456827.1938 - mae: 882.9822 - val_loss: 1243059.3807 - val_mae: 606.8509\n",
      "Epoch 41/1000\n",
      "37758/37758 [==============================] - 1s 36us/sample - loss: 2397734.3025 - mae: 869.6681 - val_loss: 1236257.7752 - val_mae: 603.0200\n",
      "Epoch 42/1000\n",
      "37758/37758 [==============================] - 1s 36us/sample - loss: 2419416.8474 - mae: 873.1511 - val_loss: 1236740.1797 - val_mae: 603.8187\n",
      "Epoch 43/1000\n",
      "37758/37758 [==============================] - 1s 36us/sample - loss: 2473658.9781 - mae: 880.9223 - val_loss: 1219157.9947 - val_mae: 598.7547\n",
      "Epoch 44/1000\n",
      "37758/37758 [==============================] - 1s 36us/sample - loss: 2388975.2994 - mae: 872.2231 - val_loss: 1257999.7540 - val_mae: 607.8018\n",
      "Epoch 45/1000\n",
      "37758/37758 [==============================] - 1s 35us/sample - loss: 2355719.4796 - mae: 866.3358 - val_loss: 1250340.5119 - val_mae: 603.6523\n",
      "Epoch 46/1000\n",
      "37758/37758 [==============================] - 1s 36us/sample - loss: 2447953.3009 - mae: 878.0626 - val_loss: 1219956.6967 - val_mae: 599.1660\n",
      "Epoch 47/1000\n",
      "37758/37758 [==============================] - 1s 36us/sample - loss: 2402489.2212 - mae: 869.0573 - val_loss: 1248165.0482 - val_mae: 603.9426\n",
      "Epoch 48/1000\n",
      "37758/37758 [==============================] - 1s 35us/sample - loss: 2425588.7492 - mae: 876.8864 - val_loss: 1264688.0474 - val_mae: 607.7319\n",
      "Epoch 00048: early stopping\n"
     ]
    },
    {
     "data": {
      "text/plain": [
       "<tensorflow.python.keras.callbacks.History at 0x7f48af41cad0>"
      ]
     },
     "execution_count": 39,
     "metadata": {},
     "output_type": "execute_result"
    }
   ],
   "source": [
    "model.fit(X_train, y_train, batch_size=128, epochs=1000, verbose=1, callbacks=[early_stop], validation_data=(X_test, y_test))"
   ]
  },
  {
   "cell_type": "code",
   "execution_count": 40,
   "metadata": {},
   "outputs": [],
   "source": [
    "metrics = pd.DataFrame(model.history.history)"
   ]
  },
  {
   "cell_type": "code",
   "execution_count": 41,
   "metadata": {},
   "outputs": [
    {
     "data": {
      "text/plain": [
       "<matplotlib.axes._subplots.AxesSubplot at 0x7f48aed5a2d0>"
      ]
     },
     "execution_count": 41,
     "metadata": {},
     "output_type": "execute_result"
    },
    {
     "data": {
      "image/png": "[encoded data removed]",
      "text/plain": [
       "<Figure size 432x288 with 1 Axes>"
      ]
     },
     "metadata": {
      "needs_background": "light"
     },
     "output_type": "display_data"
    }
   ],
   "source": [
    "metrics[['loss', 'val_loss']].plot()"
   ]
  },
  {
   "cell_type": "code",
   "execution_count": 43,
   "metadata": {},
   "outputs": [
    {
     "data": {
      "text/plain": [
       "<matplotlib.axes._subplots.AxesSubplot at 0x7f48aec41950>"
      ]
     },
     "execution_count": 43,
     "metadata": {},
     "output_type": "execute_result"
    },
    {
     "data": {
      "image/png": "[encoded data removed]",
      "text/plain": [
       "<Figure size 432x288 with 1 Axes>"
      ]
     },
     "metadata": {
      "needs_background": "light"
     },
     "output_type": "display_data"
    }
   ],
   "source": [
    "metrics[['mae', 'val_mae']].plot()"
   ]
  },
  {
   "cell_type": "code",
   "execution_count": 44,
   "metadata": {},
   "outputs": [],
   "source": [
    "from sklearn.metrics import mean_absolute_error, mean_squared_error, explained_variance_score"
   ]
  },
  {
   "cell_type": "code",
   "execution_count": 45,
   "metadata": {},
   "outputs": [],
   "source": [
    "predictions = model.predict(X_test)"
   ]
  },
  {
   "cell_type": "code",
   "execution_count": 46,
   "metadata": {},
   "outputs": [
    {
     "data": {
      "text/plain": [
       "1124.5834999755325"
      ]
     },
     "execution_count": 46,
     "metadata": {},
     "output_type": "execute_result"
    }
   ],
   "source": [
    "np.sqrt(mean_squared_error(y_test, predictions))"
   ]
  },
  {
   "cell_type": "code",
   "execution_count": 47,
   "metadata": {},
   "outputs": [
    {
     "data": {
      "text/plain": [
       "607.732046683423"
      ]
     },
     "execution_count": 47,
     "metadata": {},
     "output_type": "execute_result"
    }
   ],
   "source": [
    "mean_absolute_error(y_test, predictions)"
   ]
  },
  {
   "cell_type": "code",
   "execution_count": 48,
   "metadata": {},
   "outputs": [
    {
     "data": {
      "text/plain": [
       "count    53940.000000\n",
       "mean      3932.799722\n",
       "std       3989.439738\n",
       "min        326.000000\n",
       "25%        950.000000\n",
       "50%       2401.000000\n",
       "75%       5324.250000\n",
       "max      18823.000000\n",
       "Name: price, dtype: float64"
      ]
     },
     "execution_count": 48,
     "metadata": {},
     "output_type": "execute_result"
    }
   ],
   "source": [
    "df['price'].describe()"
   ]
  },
  {
   "cell_type": "code",
   "execution_count": 50,
   "metadata": {},
   "outputs": [
    {
     "data": {
      "text/plain": [
       "0.9214472056746869"
      ]
     },
     "execution_count": 50,
     "metadata": {},
     "output_type": "execute_result"
    }
   ],
   "source": [
    "explained_variance_score(y_test, predictions)"
   ]
  },
  {
   "cell_type": "code",
   "execution_count": 51,
   "metadata": {},
   "outputs": [],
   "source": [
    "model.save('models/diamond_prices.h5')"
   ]
  },
  {
   "cell_type": "code",
   "execution_count": null,
   "metadata": {},
   "outputs": [],
   "source": []
  }
 ],
 "metadata": {
  "kernelspec": {
   "display_name": "Python 3",
   "language": "python",
   "name": "python3"
  },
  "language_info": {
   "codemirror_mode": {
    "name": "ipython",
    "version": 3
   },
   "file_extension": ".py",
   "mimetype": "text/x-python",
   "name": "python",
   "nbconvert_exporter": "python",
   "pygments_lexer": "ipython3",
   "version": "3.7.4"
  }
 },
 "nbformat": 4,
 "nbformat_minor": 2
}
