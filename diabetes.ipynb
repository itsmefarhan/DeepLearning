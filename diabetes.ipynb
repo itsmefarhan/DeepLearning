{
 "cells": [
  {
   "cell_type": "code",
   "execution_count": 1,
   "metadata": {},
   "outputs": [],
   "source": [
    "import numpy as np\n",
    "import pandas as pd\n",
    "import matplotlib.pyplot as plt"
   ]
  },
  {
   "cell_type": "code",
   "execution_count": 2,
   "metadata": {},
   "outputs": [],
   "source": [
    "df = pd.read_csv('datasets/diabetes.csv')"
   ]
  },
  {
   "cell_type": "code",
   "execution_count": 3,
   "metadata": {},
   "outputs": [
    {
     "data": {
      "text/html": [
       "<div>\n",
       "<style scoped>\n",
       "    .dataframe tbody tr th:only-of-type {\n",
       "        vertical-align: middle;\n",
       "    }\n",
       "\n",
       "    .dataframe tbody tr th {\n",
       "        vertical-align: top;\n",
       "    }\n",
       "\n",
       "    .dataframe thead th {\n",
       "        text-align: right;\n",
       "    }\n",
       "</style>\n",
       "<table border=\"1\" class=\"dataframe\">\n",
       "  <thead>\n",
       "    <tr style=\"text-align: right;\">\n",
       "      <th></th>\n",
       "      <th>Pregnancies</th>\n",
       "      <th>Glucose</th>\n",
       "      <th>BloodPressure</th>\n",
       "      <th>SkinThickness</th>\n",
       "      <th>Insulin</th>\n",
       "      <th>BMI</th>\n",
       "      <th>DiabetesPedigreeFunction</th>\n",
       "      <th>Age</th>\n",
       "      <th>Outcome</th>\n",
       "    </tr>\n",
       "  </thead>\n",
       "  <tbody>\n",
       "    <tr>\n",
       "      <td>0</td>\n",
       "      <td>6</td>\n",
       "      <td>148</td>\n",
       "      <td>72</td>\n",
       "      <td>35</td>\n",
       "      <td>0</td>\n",
       "      <td>33.6</td>\n",
       "      <td>0.627</td>\n",
       "      <td>50</td>\n",
       "      <td>1</td>\n",
       "    </tr>\n",
       "    <tr>\n",
       "      <td>1</td>\n",
       "      <td>1</td>\n",
       "      <td>85</td>\n",
       "      <td>66</td>\n",
       "      <td>29</td>\n",
       "      <td>0</td>\n",
       "      <td>26.6</td>\n",
       "      <td>0.351</td>\n",
       "      <td>31</td>\n",
       "      <td>0</td>\n",
       "    </tr>\n",
       "    <tr>\n",
       "      <td>2</td>\n",
       "      <td>8</td>\n",
       "      <td>183</td>\n",
       "      <td>64</td>\n",
       "      <td>0</td>\n",
       "      <td>0</td>\n",
       "      <td>23.3</td>\n",
       "      <td>0.672</td>\n",
       "      <td>32</td>\n",
       "      <td>1</td>\n",
       "    </tr>\n",
       "    <tr>\n",
       "      <td>3</td>\n",
       "      <td>1</td>\n",
       "      <td>89</td>\n",
       "      <td>66</td>\n",
       "      <td>23</td>\n",
       "      <td>94</td>\n",
       "      <td>28.1</td>\n",
       "      <td>0.167</td>\n",
       "      <td>21</td>\n",
       "      <td>0</td>\n",
       "    </tr>\n",
       "    <tr>\n",
       "      <td>4</td>\n",
       "      <td>0</td>\n",
       "      <td>137</td>\n",
       "      <td>40</td>\n",
       "      <td>35</td>\n",
       "      <td>168</td>\n",
       "      <td>43.1</td>\n",
       "      <td>2.288</td>\n",
       "      <td>33</td>\n",
       "      <td>1</td>\n",
       "    </tr>\n",
       "  </tbody>\n",
       "</table>\n",
       "</div>"
      ],
      "text/plain": [
       "   Pregnancies  Glucose  BloodPressure  SkinThickness  Insulin   BMI  \\\n",
       "0            6      148             72             35        0  33.6   \n",
       "1            1       85             66             29        0  26.6   \n",
       "2            8      183             64              0        0  23.3   \n",
       "3            1       89             66             23       94  28.1   \n",
       "4            0      137             40             35      168  43.1   \n",
       "\n",
       "   DiabetesPedigreeFunction  Age  Outcome  \n",
       "0                     0.627   50        1  \n",
       "1                     0.351   31        0  \n",
       "2                     0.672   32        1  \n",
       "3                     0.167   21        0  \n",
       "4                     2.288   33        1  "
      ]
     },
     "execution_count": 3,
     "metadata": {},
     "output_type": "execute_result"
    }
   ],
   "source": [
    "df.head()"
   ]
  },
  {
   "cell_type": "code",
   "execution_count": 4,
   "metadata": {},
   "outputs": [
    {
     "data": {
      "text/plain": [
       "(768, 9)"
      ]
     },
     "execution_count": 4,
     "metadata": {},
     "output_type": "execute_result"
    }
   ],
   "source": [
    "df.shape"
   ]
  },
  {
   "cell_type": "code",
   "execution_count": 5,
   "metadata": {},
   "outputs": [
    {
     "data": {
      "text/plain": [
       "Index(['Pregnancies', 'Glucose', 'BloodPressure', 'SkinThickness', 'Insulin',\n",
       "       'BMI', 'DiabetesPedigreeFunction', 'Age', 'Outcome'],\n",
       "      dtype='object')"
      ]
     },
     "execution_count": 5,
     "metadata": {},
     "output_type": "execute_result"
    }
   ],
   "source": [
    "df.columns"
   ]
  },
  {
   "cell_type": "code",
   "execution_count": 6,
   "metadata": {},
   "outputs": [
    {
     "data": {
      "text/plain": [
       "Pregnancies                 0\n",
       "Glucose                     0\n",
       "BloodPressure               0\n",
       "SkinThickness               0\n",
       "Insulin                     0\n",
       "BMI                         0\n",
       "DiabetesPedigreeFunction    0\n",
       "Age                         0\n",
       "Outcome                     0\n",
       "dtype: int64"
      ]
     },
     "execution_count": 6,
     "metadata": {},
     "output_type": "execute_result"
    }
   ],
   "source": [
    "df.isnull().sum()"
   ]
  },
  {
   "cell_type": "code",
   "execution_count": 7,
   "metadata": {},
   "outputs": [],
   "source": [
    "df= df.drop('Age', axis=1)\n",
    "X = df.drop('Outcome', axis=1).values\n",
    "y = df['Outcome'].values"
   ]
  },
  {
   "cell_type": "code",
   "execution_count": 8,
   "metadata": {},
   "outputs": [
    {
     "data": {
      "text/plain": [
       "array([[  6.   , 148.   ,  72.   , ...,   0.   ,  33.6  ,   0.627],\n",
       "       [  1.   ,  85.   ,  66.   , ...,   0.   ,  26.6  ,   0.351],\n",
       "       [  8.   , 183.   ,  64.   , ...,   0.   ,  23.3  ,   0.672],\n",
       "       ...,\n",
       "       [  5.   , 121.   ,  72.   , ..., 112.   ,  26.2  ,   0.245],\n",
       "       [  1.   , 126.   ,  60.   , ...,   0.   ,  30.1  ,   0.349],\n",
       "       [  1.   ,  93.   ,  70.   , ...,   0.   ,  30.4  ,   0.315]])"
      ]
     },
     "execution_count": 8,
     "metadata": {},
     "output_type": "execute_result"
    }
   ],
   "source": [
    "X"
   ]
  },
  {
   "cell_type": "code",
   "execution_count": 9,
   "metadata": {},
   "outputs": [
    {
     "data": {
      "text/plain": [
       "array([1, 0, 1, 0, 1, 0, 1, 0, 1, 1, 0, 1, 0, 1, 1, 1, 1, 1, 0, 1, 0, 0,\n",
       "       1, 1, 1, 1, 1, 0, 0, 0, 0, 1, 0, 0, 0, 0, 0, 1, 1, 1, 0, 0, 0, 1,\n",
       "       0, 1, 0, 0, 1, 0, 0, 0, 0, 1, 0, 0, 1, 0, 0, 0, 0, 1, 0, 0, 1, 0,\n",
       "       1, 0, 0, 0, 1, 0, 1, 0, 0, 0, 0, 0, 1, 0, 0, 0, 0, 0, 1, 0, 0, 0,\n",
       "       1, 0, 0, 0, 0, 1, 0, 0, 0, 0, 0, 1, 1, 0, 0, 0, 0, 0, 0, 0, 0, 1,\n",
       "       1, 1, 0, 0, 1, 1, 1, 0, 0, 0, 1, 0, 0, 0, 1, 1, 0, 0, 1, 1, 1, 1,\n",
       "       1, 0, 0, 0, 0, 0, 0, 0, 0, 0, 0, 1, 0, 0, 0, 0, 0, 0, 0, 0, 1, 0,\n",
       "       1, 1, 0, 0, 0, 1, 0, 0, 0, 0, 1, 1, 0, 0, 0, 0, 1, 1, 0, 0, 0, 1,\n",
       "       0, 1, 0, 1, 0, 0, 0, 0, 0, 1, 1, 1, 1, 1, 0, 0, 1, 1, 0, 1, 0, 1,\n",
       "       1, 1, 0, 0, 0, 0, 0, 0, 1, 1, 0, 1, 0, 0, 0, 1, 1, 1, 1, 0, 1, 1,\n",
       "       1, 1, 0, 0, 0, 0, 0, 1, 0, 0, 1, 1, 0, 0, 0, 1, 1, 1, 1, 0, 0, 0,\n",
       "       1, 1, 0, 1, 0, 0, 0, 0, 0, 0, 0, 0, 1, 1, 0, 0, 0, 1, 0, 1, 0, 0,\n",
       "       1, 0, 1, 0, 0, 1, 1, 0, 0, 0, 0, 0, 1, 0, 0, 0, 1, 0, 0, 1, 1, 0,\n",
       "       0, 1, 0, 0, 0, 1, 1, 1, 0, 0, 1, 0, 1, 0, 1, 1, 0, 1, 0, 0, 1, 0,\n",
       "       1, 1, 0, 0, 1, 0, 1, 0, 0, 1, 0, 1, 0, 1, 1, 1, 0, 0, 1, 0, 1, 0,\n",
       "       0, 0, 1, 0, 0, 0, 0, 1, 1, 1, 0, 0, 0, 0, 0, 0, 0, 0, 0, 1, 0, 0,\n",
       "       0, 0, 0, 1, 1, 1, 0, 1, 1, 0, 0, 1, 0, 0, 1, 0, 0, 1, 1, 0, 0, 0,\n",
       "       0, 1, 0, 0, 1, 0, 0, 0, 0, 0, 0, 0, 1, 1, 1, 0, 0, 1, 0, 0, 1, 0,\n",
       "       0, 1, 0, 1, 1, 0, 1, 0, 1, 0, 1, 0, 1, 1, 0, 0, 0, 0, 1, 1, 0, 1,\n",
       "       0, 1, 0, 0, 0, 0, 1, 1, 0, 1, 0, 1, 0, 0, 0, 0, 0, 1, 0, 0, 0, 0,\n",
       "       1, 0, 0, 1, 1, 1, 0, 0, 1, 0, 0, 1, 0, 0, 0, 1, 0, 0, 1, 0, 0, 0,\n",
       "       0, 0, 0, 0, 0, 0, 1, 0, 0, 0, 0, 0, 0, 0, 1, 0, 0, 0, 1, 0, 0, 0,\n",
       "       1, 1, 0, 0, 0, 0, 0, 0, 0, 1, 0, 0, 0, 0, 1, 0, 0, 0, 1, 0, 0, 0,\n",
       "       1, 0, 0, 0, 1, 0, 0, 0, 0, 1, 1, 0, 0, 0, 0, 0, 0, 1, 0, 0, 0, 0,\n",
       "       0, 0, 0, 0, 0, 0, 0, 1, 0, 0, 0, 1, 1, 1, 1, 0, 0, 1, 1, 0, 0, 0,\n",
       "       0, 0, 0, 0, 0, 0, 0, 0, 0, 0, 1, 1, 0, 0, 0, 0, 0, 0, 0, 1, 0, 0,\n",
       "       0, 0, 0, 0, 0, 1, 0, 1, 1, 0, 0, 0, 1, 0, 1, 0, 1, 0, 1, 0, 1, 0,\n",
       "       0, 1, 0, 0, 1, 0, 0, 0, 0, 1, 1, 0, 1, 0, 0, 0, 0, 1, 1, 0, 1, 0,\n",
       "       0, 0, 1, 1, 0, 0, 0, 0, 0, 0, 0, 0, 0, 0, 1, 0, 0, 0, 0, 1, 0, 0,\n",
       "       1, 0, 0, 0, 1, 0, 0, 0, 1, 1, 1, 0, 0, 0, 0, 0, 0, 1, 0, 0, 0, 1,\n",
       "       0, 1, 1, 1, 1, 0, 1, 1, 0, 0, 0, 0, 0, 0, 0, 1, 1, 0, 1, 0, 0, 1,\n",
       "       0, 1, 0, 0, 0, 0, 0, 1, 0, 1, 0, 1, 0, 1, 1, 0, 0, 0, 0, 1, 1, 0,\n",
       "       0, 0, 1, 0, 1, 1, 0, 0, 1, 0, 0, 1, 1, 0, 0, 1, 0, 0, 1, 0, 0, 0,\n",
       "       0, 0, 0, 0, 1, 1, 1, 0, 0, 0, 0, 0, 0, 1, 1, 0, 0, 1, 0, 0, 1, 0,\n",
       "       1, 1, 1, 0, 0, 1, 1, 1, 0, 1, 0, 1, 0, 1, 0, 0, 0, 0, 1, 0])"
      ]
     },
     "execution_count": 9,
     "metadata": {},
     "output_type": "execute_result"
    }
   ],
   "source": [
    "y"
   ]
  },
  {
   "cell_type": "code",
   "execution_count": 10,
   "metadata": {},
   "outputs": [],
   "source": [
    "from sklearn.model_selection import train_test_split"
   ]
  },
  {
   "cell_type": "code",
   "execution_count": 11,
   "metadata": {},
   "outputs": [],
   "source": [
    "X_train, X_test, y_train, y_test = train_test_split(X, y, test_size=0.1, random_state=42)"
   ]
  },
  {
   "cell_type": "code",
   "execution_count": 12,
   "metadata": {},
   "outputs": [],
   "source": [
    "from sklearn.preprocessing import MinMaxScaler\n",
    "scaler = MinMaxScaler()"
   ]
  },
  {
   "cell_type": "code",
   "execution_count": 13,
   "metadata": {},
   "outputs": [],
   "source": [
    "X_train = scaler.fit_transform(X_train)\n",
    "X_test = scaler.transform(X_test)"
   ]
  },
  {
   "cell_type": "code",
   "execution_count": 14,
   "metadata": {},
   "outputs": [],
   "source": [
    "from tensorflow.keras.models import Sequential\n",
    "from tensorflow.keras.layers import Dense, Dropout"
   ]
  },
  {
   "cell_type": "code",
   "execution_count": 63,
   "metadata": {},
   "outputs": [],
   "source": [
    "model = Sequential()\n",
    "\n",
    "model.add(Dense(8, activation='relu'))\n",
    "model.add(Dropout(0.2))\n",
    "\n",
    "model.add(Dense(1, activation='sigmoid'))\n",
    "model.compile(optimizer='adam', loss='binary_crossentropy', metrics=['accuracy'])"
   ]
  },
  {
   "cell_type": "code",
   "execution_count": 64,
   "metadata": {},
   "outputs": [],
   "source": [
    "from tensorflow.keras.callbacks import EarlyStopping"
   ]
  },
  {
   "cell_type": "code",
   "execution_count": 65,
   "metadata": {},
   "outputs": [],
   "source": [
    "early_stop = EarlyStopping(monitor='val_loss', mode='min', verbose=1, patience=5)"
   ]
  },
  {
   "cell_type": "code",
   "execution_count": 66,
   "metadata": {},
   "outputs": [
    {
     "name": "stdout",
     "output_type": "stream",
     "text": [
      "Train on 691 samples, validate on 77 samples\n",
      "Epoch 1/500\n",
      "691/691 [==============================] - 1s 842us/sample - loss: 0.8251 - accuracy: 0.3661 - val_loss: 0.7654 - val_accuracy: 0.3506\n",
      "Epoch 2/500\n",
      "691/691 [==============================] - 0s 101us/sample - loss: 0.7797 - accuracy: 0.4023 - val_loss: 0.7152 - val_accuracy: 0.4156\n",
      "Epoch 3/500\n",
      "691/691 [==============================] - 0s 90us/sample - loss: 0.7342 - accuracy: 0.4616 - val_loss: 0.6834 - val_accuracy: 0.5325\n",
      "Epoch 4/500\n",
      "691/691 [==============================] - 0s 105us/sample - loss: 0.7034 - accuracy: 0.5253 - val_loss: 0.6645 - val_accuracy: 0.7013\n",
      "Epoch 5/500\n",
      "691/691 [==============================] - 0s 102us/sample - loss: 0.6951 - accuracy: 0.5586 - val_loss: 0.6533 - val_accuracy: 0.7013\n",
      "Epoch 6/500\n",
      "691/691 [==============================] - 0s 118us/sample - loss: 0.6793 - accuracy: 0.6064 - val_loss: 0.6460 - val_accuracy: 0.6883\n",
      "Epoch 7/500\n",
      "691/691 [==============================] - 0s 102us/sample - loss: 0.6679 - accuracy: 0.6151 - val_loss: 0.6430 - val_accuracy: 0.6753\n",
      "Epoch 8/500\n",
      "691/691 [==============================] - 0s 101us/sample - loss: 0.6704 - accuracy: 0.6093 - val_loss: 0.6389 - val_accuracy: 0.6883\n",
      "Epoch 9/500\n",
      "691/691 [==============================] - 0s 108us/sample - loss: 0.6693 - accuracy: 0.5919 - val_loss: 0.6373 - val_accuracy: 0.6883\n",
      "Epoch 10/500\n",
      "691/691 [==============================] - 0s 96us/sample - loss: 0.6632 - accuracy: 0.5832 - val_loss: 0.6357 - val_accuracy: 0.6883\n",
      "Epoch 11/500\n",
      "691/691 [==============================] - 0s 104us/sample - loss: 0.6643 - accuracy: 0.6078 - val_loss: 0.6346 - val_accuracy: 0.6753\n",
      "Epoch 12/500\n",
      "691/691 [==============================] - 0s 109us/sample - loss: 0.6528 - accuracy: 0.6266 - val_loss: 0.6337 - val_accuracy: 0.6753\n",
      "Epoch 13/500\n",
      "691/691 [==============================] - 0s 102us/sample - loss: 0.6534 - accuracy: 0.6179 - val_loss: 0.6324 - val_accuracy: 0.6623\n",
      "Epoch 14/500\n",
      "691/691 [==============================] - 0s 98us/sample - loss: 0.6586 - accuracy: 0.6020 - val_loss: 0.6315 - val_accuracy: 0.6494\n",
      "Epoch 15/500\n",
      "691/691 [==============================] - 0s 99us/sample - loss: 0.6498 - accuracy: 0.6397 - val_loss: 0.6305 - val_accuracy: 0.6494\n",
      "Epoch 16/500\n",
      "691/691 [==============================] - 0s 94us/sample - loss: 0.6487 - accuracy: 0.6527 - val_loss: 0.6296 - val_accuracy: 0.6494\n",
      "Epoch 17/500\n",
      "691/691 [==============================] - 0s 104us/sample - loss: 0.6419 - accuracy: 0.6527 - val_loss: 0.6287 - val_accuracy: 0.6494\n",
      "Epoch 18/500\n",
      "691/691 [==============================] - 0s 93us/sample - loss: 0.6555 - accuracy: 0.6353 - val_loss: 0.6279 - val_accuracy: 0.6494\n",
      "Epoch 19/500\n",
      "691/691 [==============================] - 0s 102us/sample - loss: 0.6559 - accuracy: 0.6295 - val_loss: 0.6269 - val_accuracy: 0.6494\n",
      "Epoch 20/500\n",
      "691/691 [==============================] - 0s 108us/sample - loss: 0.6492 - accuracy: 0.6397 - val_loss: 0.6261 - val_accuracy: 0.6494\n",
      "Epoch 21/500\n",
      "691/691 [==============================] - 0s 94us/sample - loss: 0.6365 - accuracy: 0.6411 - val_loss: 0.6250 - val_accuracy: 0.6494\n",
      "Epoch 22/500\n",
      "691/691 [==============================] - 0s 122us/sample - loss: 0.6398 - accuracy: 0.6570 - val_loss: 0.6242 - val_accuracy: 0.6494\n",
      "Epoch 23/500\n",
      "691/691 [==============================] - 0s 95us/sample - loss: 0.6442 - accuracy: 0.6527 - val_loss: 0.6231 - val_accuracy: 0.6494\n",
      "Epoch 24/500\n",
      "691/691 [==============================] - 0s 96us/sample - loss: 0.6406 - accuracy: 0.6541 - val_loss: 0.6220 - val_accuracy: 0.6623\n",
      "Epoch 25/500\n",
      "691/691 [==============================] - 0s 100us/sample - loss: 0.6382 - accuracy: 0.6454 - val_loss: 0.6207 - val_accuracy: 0.6494\n",
      "Epoch 26/500\n",
      "691/691 [==============================] - 0s 110us/sample - loss: 0.6418 - accuracy: 0.6599 - val_loss: 0.6197 - val_accuracy: 0.6623\n",
      "Epoch 27/500\n",
      "691/691 [==============================] - 0s 95us/sample - loss: 0.6414 - accuracy: 0.6556 - val_loss: 0.6185 - val_accuracy: 0.6623\n",
      "Epoch 28/500\n",
      "691/691 [==============================] - 0s 102us/sample - loss: 0.6408 - accuracy: 0.6599 - val_loss: 0.6176 - val_accuracy: 0.6623\n",
      "Epoch 29/500\n",
      "691/691 [==============================] - 0s 108us/sample - loss: 0.6310 - accuracy: 0.6729 - val_loss: 0.6163 - val_accuracy: 0.6623\n",
      "Epoch 30/500\n",
      "691/691 [==============================] - 0s 105us/sample - loss: 0.6359 - accuracy: 0.6657 - val_loss: 0.6153 - val_accuracy: 0.6883\n",
      "Epoch 31/500\n",
      "691/691 [==============================] - 0s 92us/sample - loss: 0.6329 - accuracy: 0.6614 - val_loss: 0.6141 - val_accuracy: 0.6883\n",
      "Epoch 32/500\n",
      "691/691 [==============================] - 0s 93us/sample - loss: 0.6227 - accuracy: 0.6671 - val_loss: 0.6125 - val_accuracy: 0.6753\n",
      "Epoch 33/500\n",
      "691/691 [==============================] - 0s 89us/sample - loss: 0.6383 - accuracy: 0.6700 - val_loss: 0.6114 - val_accuracy: 0.6753\n",
      "Epoch 34/500\n",
      "691/691 [==============================] - 0s 92us/sample - loss: 0.6212 - accuracy: 0.6643 - val_loss: 0.6102 - val_accuracy: 0.6883\n",
      "Epoch 35/500\n",
      "691/691 [==============================] - 0s 96us/sample - loss: 0.6165 - accuracy: 0.6816 - val_loss: 0.6086 - val_accuracy: 0.6883\n",
      "Epoch 36/500\n",
      "691/691 [==============================] - 0s 100us/sample - loss: 0.6223 - accuracy: 0.6802 - val_loss: 0.6072 - val_accuracy: 0.6753\n",
      "Epoch 37/500\n",
      "691/691 [==============================] - 0s 89us/sample - loss: 0.6229 - accuracy: 0.6686 - val_loss: 0.6058 - val_accuracy: 0.6883\n",
      "Epoch 38/500\n",
      "691/691 [==============================] - 0s 127us/sample - loss: 0.6200 - accuracy: 0.6758 - val_loss: 0.6043 - val_accuracy: 0.7013\n",
      "Epoch 39/500\n",
      "691/691 [==============================] - 0s 98us/sample - loss: 0.6157 - accuracy: 0.6961 - val_loss: 0.6035 - val_accuracy: 0.7013\n",
      "Epoch 40/500\n",
      "691/691 [==============================] - 0s 99us/sample - loss: 0.6095 - accuracy: 0.6903 - val_loss: 0.6019 - val_accuracy: 0.7013\n",
      "Epoch 41/500\n",
      "691/691 [==============================] - 0s 90us/sample - loss: 0.6146 - accuracy: 0.6918 - val_loss: 0.6001 - val_accuracy: 0.7143\n",
      "Epoch 42/500\n",
      "691/691 [==============================] - 0s 101us/sample - loss: 0.6148 - accuracy: 0.6903 - val_loss: 0.5986 - val_accuracy: 0.7143\n",
      "Epoch 43/500\n",
      "691/691 [==============================] - 0s 98us/sample - loss: 0.6086 - accuracy: 0.6990 - val_loss: 0.5975 - val_accuracy: 0.7143\n",
      "Epoch 44/500\n",
      "691/691 [==============================] - 0s 100us/sample - loss: 0.6148 - accuracy: 0.6831 - val_loss: 0.5963 - val_accuracy: 0.7143\n",
      "Epoch 45/500\n",
      "691/691 [==============================] - 0s 95us/sample - loss: 0.6100 - accuracy: 0.6975 - val_loss: 0.5949 - val_accuracy: 0.7143\n",
      "Epoch 46/500\n",
      "691/691 [==============================] - 0s 90us/sample - loss: 0.6071 - accuracy: 0.6860 - val_loss: 0.5934 - val_accuracy: 0.7143\n",
      "Epoch 47/500\n",
      "691/691 [==============================] - 0s 113us/sample - loss: 0.5965 - accuracy: 0.7062 - val_loss: 0.5916 - val_accuracy: 0.7143\n",
      "Epoch 48/500\n",
      "691/691 [==============================] - 0s 102us/sample - loss: 0.5977 - accuracy: 0.7062 - val_loss: 0.5902 - val_accuracy: 0.7143\n",
      "Epoch 49/500\n",
      "691/691 [==============================] - 0s 99us/sample - loss: 0.6039 - accuracy: 0.6860 - val_loss: 0.5885 - val_accuracy: 0.7143\n",
      "Epoch 50/500\n",
      "691/691 [==============================] - 0s 117us/sample - loss: 0.6025 - accuracy: 0.6889 - val_loss: 0.5868 - val_accuracy: 0.7273\n",
      "Epoch 51/500\n",
      "691/691 [==============================] - 0s 91us/sample - loss: 0.5962 - accuracy: 0.6932 - val_loss: 0.5853 - val_accuracy: 0.7143\n",
      "Epoch 52/500\n",
      "691/691 [==============================] - 0s 116us/sample - loss: 0.5891 - accuracy: 0.7221 - val_loss: 0.5836 - val_accuracy: 0.7273\n",
      "Epoch 53/500\n",
      "691/691 [==============================] - 0s 96us/sample - loss: 0.5910 - accuracy: 0.7048 - val_loss: 0.5822 - val_accuracy: 0.7273\n",
      "Epoch 54/500\n",
      "691/691 [==============================] - 0s 120us/sample - loss: 0.5953 - accuracy: 0.6918 - val_loss: 0.5810 - val_accuracy: 0.7273\n",
      "Epoch 55/500\n",
      "691/691 [==============================] - 0s 99us/sample - loss: 0.5865 - accuracy: 0.7091 - val_loss: 0.5792 - val_accuracy: 0.7273\n",
      "Epoch 56/500\n"
     ]
    },
    {
     "name": "stdout",
     "output_type": "stream",
     "text": [
      "691/691 [==============================] - 0s 114us/sample - loss: 0.5906 - accuracy: 0.7106 - val_loss: 0.5777 - val_accuracy: 0.7143\n",
      "Epoch 57/500\n",
      "691/691 [==============================] - 0s 87us/sample - loss: 0.5898 - accuracy: 0.7192 - val_loss: 0.5762 - val_accuracy: 0.7143\n",
      "Epoch 58/500\n",
      "691/691 [==============================] - 0s 95us/sample - loss: 0.5826 - accuracy: 0.7308 - val_loss: 0.5750 - val_accuracy: 0.7273\n",
      "Epoch 59/500\n",
      "691/691 [==============================] - 0s 94us/sample - loss: 0.5808 - accuracy: 0.7120 - val_loss: 0.5731 - val_accuracy: 0.7273\n",
      "Epoch 60/500\n",
      "691/691 [==============================] - 0s 92us/sample - loss: 0.5840 - accuracy: 0.7424 - val_loss: 0.5715 - val_accuracy: 0.7273\n",
      "Epoch 61/500\n",
      "691/691 [==============================] - 0s 84us/sample - loss: 0.5727 - accuracy: 0.7221 - val_loss: 0.5699 - val_accuracy: 0.7273\n",
      "Epoch 62/500\n",
      "691/691 [==============================] - 0s 98us/sample - loss: 0.5894 - accuracy: 0.7149 - val_loss: 0.5688 - val_accuracy: 0.7273\n",
      "Epoch 63/500\n",
      "691/691 [==============================] - 0s 93us/sample - loss: 0.5813 - accuracy: 0.7207 - val_loss: 0.5679 - val_accuracy: 0.7403\n",
      "Epoch 64/500\n",
      "691/691 [==============================] - 0s 92us/sample - loss: 0.5730 - accuracy: 0.7323 - val_loss: 0.5669 - val_accuracy: 0.7273\n",
      "Epoch 65/500\n",
      "691/691 [==============================] - 0s 96us/sample - loss: 0.5684 - accuracy: 0.7308 - val_loss: 0.5652 - val_accuracy: 0.7273\n",
      "Epoch 66/500\n",
      "691/691 [==============================] - 0s 100us/sample - loss: 0.5738 - accuracy: 0.7294 - val_loss: 0.5624 - val_accuracy: 0.7143\n",
      "Epoch 67/500\n",
      "691/691 [==============================] - 0s 94us/sample - loss: 0.5649 - accuracy: 0.7323 - val_loss: 0.5597 - val_accuracy: 0.7273\n",
      "Epoch 68/500\n",
      "691/691 [==============================] - 0s 95us/sample - loss: 0.5719 - accuracy: 0.7221 - val_loss: 0.5565 - val_accuracy: 0.7143\n",
      "Epoch 69/500\n",
      "691/691 [==============================] - 0s 123us/sample - loss: 0.5677 - accuracy: 0.7265 - val_loss: 0.5567 - val_accuracy: 0.7532\n",
      "Epoch 70/500\n",
      "691/691 [==============================] - 0s 93us/sample - loss: 0.5723 - accuracy: 0.7192 - val_loss: 0.5552 - val_accuracy: 0.7532\n",
      "Epoch 71/500\n",
      "691/691 [==============================] - 0s 92us/sample - loss: 0.5772 - accuracy: 0.7135 - val_loss: 0.5525 - val_accuracy: 0.7273\n",
      "Epoch 72/500\n",
      "691/691 [==============================] - 0s 89us/sample - loss: 0.5661 - accuracy: 0.7149 - val_loss: 0.5504 - val_accuracy: 0.7403\n",
      "Epoch 73/500\n",
      "691/691 [==============================] - 0s 98us/sample - loss: 0.5624 - accuracy: 0.7221 - val_loss: 0.5477 - val_accuracy: 0.7403\n",
      "Epoch 74/500\n",
      "691/691 [==============================] - 0s 87us/sample - loss: 0.5713 - accuracy: 0.7250 - val_loss: 0.5470 - val_accuracy: 0.7532\n",
      "Epoch 75/500\n",
      "691/691 [==============================] - 0s 98us/sample - loss: 0.5560 - accuracy: 0.7323 - val_loss: 0.5451 - val_accuracy: 0.7532\n",
      "Epoch 76/500\n",
      "691/691 [==============================] - 0s 87us/sample - loss: 0.5555 - accuracy: 0.7279 - val_loss: 0.5435 - val_accuracy: 0.7403\n",
      "Epoch 77/500\n",
      "691/691 [==============================] - 0s 97us/sample - loss: 0.5526 - accuracy: 0.7366 - val_loss: 0.5420 - val_accuracy: 0.7403\n",
      "Epoch 78/500\n",
      "691/691 [==============================] - 0s 103us/sample - loss: 0.5522 - accuracy: 0.7323 - val_loss: 0.5415 - val_accuracy: 0.7662\n",
      "Epoch 79/500\n",
      "691/691 [==============================] - 0s 97us/sample - loss: 0.5591 - accuracy: 0.7192 - val_loss: 0.5395 - val_accuracy: 0.7403\n",
      "Epoch 80/500\n",
      "691/691 [==============================] - 0s 103us/sample - loss: 0.5513 - accuracy: 0.7323 - val_loss: 0.5380 - val_accuracy: 0.7662\n",
      "Epoch 81/500\n",
      "691/691 [==============================] - 0s 103us/sample - loss: 0.5518 - accuracy: 0.7164 - val_loss: 0.5370 - val_accuracy: 0.7662\n",
      "Epoch 82/500\n",
      "691/691 [==============================] - 0s 96us/sample - loss: 0.5459 - accuracy: 0.7467 - val_loss: 0.5351 - val_accuracy: 0.7403\n",
      "Epoch 83/500\n",
      "691/691 [==============================] - 0s 90us/sample - loss: 0.5416 - accuracy: 0.7438 - val_loss: 0.5335 - val_accuracy: 0.7662\n",
      "Epoch 84/500\n",
      "691/691 [==============================] - 0s 100us/sample - loss: 0.5471 - accuracy: 0.7381 - val_loss: 0.5319 - val_accuracy: 0.7662\n",
      "Epoch 85/500\n",
      "691/691 [==============================] - 0s 99us/sample - loss: 0.5446 - accuracy: 0.7424 - val_loss: 0.5315 - val_accuracy: 0.7792\n",
      "Epoch 86/500\n",
      "691/691 [==============================] - 0s 88us/sample - loss: 0.5449 - accuracy: 0.7366 - val_loss: 0.5302 - val_accuracy: 0.7792\n",
      "Epoch 87/500\n",
      "691/691 [==============================] - 0s 90us/sample - loss: 0.5447 - accuracy: 0.7381 - val_loss: 0.5294 - val_accuracy: 0.7792\n",
      "Epoch 88/500\n",
      "691/691 [==============================] - 0s 83us/sample - loss: 0.5413 - accuracy: 0.7352 - val_loss: 0.5278 - val_accuracy: 0.7792\n",
      "Epoch 89/500\n",
      "691/691 [==============================] - 0s 96us/sample - loss: 0.5369 - accuracy: 0.7352 - val_loss: 0.5266 - val_accuracy: 0.7792\n",
      "Epoch 90/500\n",
      "691/691 [==============================] - 0s 101us/sample - loss: 0.5349 - accuracy: 0.7337 - val_loss: 0.5256 - val_accuracy: 0.7792\n",
      "Epoch 91/500\n",
      "691/691 [==============================] - 0s 94us/sample - loss: 0.5350 - accuracy: 0.7438 - val_loss: 0.5244 - val_accuracy: 0.7792\n",
      "Epoch 92/500\n",
      "691/691 [==============================] - 0s 96us/sample - loss: 0.5409 - accuracy: 0.7337 - val_loss: 0.5233 - val_accuracy: 0.7792\n",
      "Epoch 93/500\n",
      "691/691 [==============================] - 0s 89us/sample - loss: 0.5347 - accuracy: 0.7424 - val_loss: 0.5220 - val_accuracy: 0.7792\n",
      "Epoch 94/500\n",
      "691/691 [==============================] - 0s 93us/sample - loss: 0.5370 - accuracy: 0.7323 - val_loss: 0.5215 - val_accuracy: 0.7792\n",
      "Epoch 95/500\n",
      "691/691 [==============================] - 0s 98us/sample - loss: 0.5260 - accuracy: 0.7569 - val_loss: 0.5204 - val_accuracy: 0.7792\n",
      "Epoch 96/500\n",
      "691/691 [==============================] - 0s 102us/sample - loss: 0.5300 - accuracy: 0.7525 - val_loss: 0.5188 - val_accuracy: 0.7922\n",
      "Epoch 97/500\n",
      "691/691 [==============================] - 0s 85us/sample - loss: 0.5323 - accuracy: 0.7424 - val_loss: 0.5180 - val_accuracy: 0.7922\n",
      "Epoch 98/500\n",
      "691/691 [==============================] - 0s 99us/sample - loss: 0.5281 - accuracy: 0.7554 - val_loss: 0.5176 - val_accuracy: 0.7922\n",
      "Epoch 99/500\n",
      "691/691 [==============================] - 0s 98us/sample - loss: 0.5408 - accuracy: 0.7395 - val_loss: 0.5167 - val_accuracy: 0.7792\n",
      "Epoch 100/500\n",
      "691/691 [==============================] - 0s 86us/sample - loss: 0.5241 - accuracy: 0.7670 - val_loss: 0.5166 - val_accuracy: 0.7922\n",
      "Epoch 101/500\n",
      "691/691 [==============================] - 0s 101us/sample - loss: 0.5228 - accuracy: 0.7554 - val_loss: 0.5143 - val_accuracy: 0.7922\n",
      "Epoch 102/500\n",
      "691/691 [==============================] - 0s 93us/sample - loss: 0.5241 - accuracy: 0.7598 - val_loss: 0.5134 - val_accuracy: 0.7922\n",
      "Epoch 103/500\n",
      "691/691 [==============================] - 0s 86us/sample - loss: 0.5361 - accuracy: 0.7496 - val_loss: 0.5133 - val_accuracy: 0.7922\n",
      "Epoch 104/500\n",
      "691/691 [==============================] - 0s 107us/sample - loss: 0.5183 - accuracy: 0.7612 - val_loss: 0.5126 - val_accuracy: 0.7922\n",
      "Epoch 105/500\n",
      "691/691 [==============================] - 0s 88us/sample - loss: 0.5227 - accuracy: 0.7525 - val_loss: 0.5120 - val_accuracy: 0.7922\n",
      "Epoch 106/500\n",
      "691/691 [==============================] - 0s 87us/sample - loss: 0.5097 - accuracy: 0.7583 - val_loss: 0.5109 - val_accuracy: 0.7922\n",
      "Epoch 107/500\n",
      "691/691 [==============================] - 0s 93us/sample - loss: 0.5219 - accuracy: 0.7511 - val_loss: 0.5101 - val_accuracy: 0.7922\n",
      "Epoch 108/500\n",
      "691/691 [==============================] - 0s 85us/sample - loss: 0.5178 - accuracy: 0.7612 - val_loss: 0.5089 - val_accuracy: 0.7922\n",
      "Epoch 109/500\n",
      "691/691 [==============================] - 0s 106us/sample - loss: 0.5224 - accuracy: 0.7410 - val_loss: 0.5082 - val_accuracy: 0.7922\n",
      "Epoch 110/500\n",
      "691/691 [==============================] - 0s 87us/sample - loss: 0.5312 - accuracy: 0.7265 - val_loss: 0.5075 - val_accuracy: 0.7792\n",
      "Epoch 111/500\n"
     ]
    },
    {
     "name": "stdout",
     "output_type": "stream",
     "text": [
      "691/691 [==============================] - 0s 97us/sample - loss: 0.5264 - accuracy: 0.7511 - val_loss: 0.5077 - val_accuracy: 0.7922\n",
      "Epoch 112/500\n",
      "691/691 [==============================] - 0s 90us/sample - loss: 0.5104 - accuracy: 0.7496 - val_loss: 0.5063 - val_accuracy: 0.7662\n",
      "Epoch 113/500\n",
      "691/691 [==============================] - 0s 96us/sample - loss: 0.5102 - accuracy: 0.7540 - val_loss: 0.5057 - val_accuracy: 0.7792\n",
      "Epoch 114/500\n",
      "691/691 [==============================] - 0s 113us/sample - loss: 0.5169 - accuracy: 0.7395 - val_loss: 0.5059 - val_accuracy: 0.7922\n",
      "Epoch 115/500\n",
      "691/691 [==============================] - 0s 91us/sample - loss: 0.5193 - accuracy: 0.7438 - val_loss: 0.5050 - val_accuracy: 0.7792\n",
      "Epoch 116/500\n",
      "691/691 [==============================] - 0s 96us/sample - loss: 0.5174 - accuracy: 0.7511 - val_loss: 0.5048 - val_accuracy: 0.7792\n",
      "Epoch 117/500\n",
      "691/691 [==============================] - 0s 89us/sample - loss: 0.5196 - accuracy: 0.7641 - val_loss: 0.5042 - val_accuracy: 0.7792\n",
      "Epoch 118/500\n",
      "691/691 [==============================] - 0s 94us/sample - loss: 0.5170 - accuracy: 0.7496 - val_loss: 0.5034 - val_accuracy: 0.7792\n",
      "Epoch 119/500\n",
      "691/691 [==============================] - 0s 101us/sample - loss: 0.5243 - accuracy: 0.7453 - val_loss: 0.5036 - val_accuracy: 0.7792\n",
      "Epoch 120/500\n",
      "691/691 [==============================] - 0s 93us/sample - loss: 0.5089 - accuracy: 0.7612 - val_loss: 0.5027 - val_accuracy: 0.7792\n",
      "Epoch 121/500\n",
      "691/691 [==============================] - 0s 91us/sample - loss: 0.5134 - accuracy: 0.7641 - val_loss: 0.5016 - val_accuracy: 0.7792\n",
      "Epoch 122/500\n",
      "691/691 [==============================] - 0s 91us/sample - loss: 0.5106 - accuracy: 0.7627 - val_loss: 0.5008 - val_accuracy: 0.7792\n",
      "Epoch 123/500\n",
      "691/691 [==============================] - 0s 85us/sample - loss: 0.5114 - accuracy: 0.7511 - val_loss: 0.4998 - val_accuracy: 0.7792\n",
      "Epoch 124/500\n",
      "691/691 [==============================] - 0s 99us/sample - loss: 0.5058 - accuracy: 0.7525 - val_loss: 0.4985 - val_accuracy: 0.7792\n",
      "Epoch 125/500\n",
      "691/691 [==============================] - 0s 99us/sample - loss: 0.5049 - accuracy: 0.7699 - val_loss: 0.4981 - val_accuracy: 0.7792\n",
      "Epoch 126/500\n",
      "691/691 [==============================] - 0s 93us/sample - loss: 0.5096 - accuracy: 0.7656 - val_loss: 0.4984 - val_accuracy: 0.7792\n",
      "Epoch 127/500\n",
      "691/691 [==============================] - 0s 96us/sample - loss: 0.5078 - accuracy: 0.7612 - val_loss: 0.4975 - val_accuracy: 0.7792\n",
      "Epoch 128/500\n",
      "691/691 [==============================] - 0s 95us/sample - loss: 0.5008 - accuracy: 0.7656 - val_loss: 0.4970 - val_accuracy: 0.7792\n",
      "Epoch 129/500\n",
      "691/691 [==============================] - 0s 97us/sample - loss: 0.5145 - accuracy: 0.7424 - val_loss: 0.4956 - val_accuracy: 0.7662\n",
      "Epoch 130/500\n",
      "691/691 [==============================] - 0s 96us/sample - loss: 0.5076 - accuracy: 0.7713 - val_loss: 0.4957 - val_accuracy: 0.7792\n",
      "Epoch 131/500\n",
      "691/691 [==============================] - 0s 98us/sample - loss: 0.4954 - accuracy: 0.7786 - val_loss: 0.4956 - val_accuracy: 0.7792\n",
      "Epoch 132/500\n",
      "691/691 [==============================] - 0s 94us/sample - loss: 0.5035 - accuracy: 0.7670 - val_loss: 0.4950 - val_accuracy: 0.7792\n",
      "Epoch 133/500\n",
      "691/691 [==============================] - 0s 90us/sample - loss: 0.5065 - accuracy: 0.7525 - val_loss: 0.4937 - val_accuracy: 0.7662\n",
      "Epoch 134/500\n",
      "691/691 [==============================] - 0s 81us/sample - loss: 0.5088 - accuracy: 0.7554 - val_loss: 0.4937 - val_accuracy: 0.7792\n",
      "Epoch 135/500\n",
      "691/691 [==============================] - 0s 98us/sample - loss: 0.5081 - accuracy: 0.7511 - val_loss: 0.4935 - val_accuracy: 0.7792\n",
      "Epoch 136/500\n",
      "691/691 [==============================] - 0s 96us/sample - loss: 0.5122 - accuracy: 0.7569 - val_loss: 0.4934 - val_accuracy: 0.7792\n",
      "Epoch 137/500\n",
      "691/691 [==============================] - 0s 92us/sample - loss: 0.5054 - accuracy: 0.7540 - val_loss: 0.4925 - val_accuracy: 0.7792\n",
      "Epoch 138/500\n",
      "691/691 [==============================] - 0s 92us/sample - loss: 0.4990 - accuracy: 0.7670 - val_loss: 0.4924 - val_accuracy: 0.7792\n",
      "Epoch 139/500\n",
      "691/691 [==============================] - 0s 102us/sample - loss: 0.4969 - accuracy: 0.7554 - val_loss: 0.4923 - val_accuracy: 0.7922\n",
      "Epoch 140/500\n",
      "691/691 [==============================] - 0s 97us/sample - loss: 0.5075 - accuracy: 0.7583 - val_loss: 0.4923 - val_accuracy: 0.7792\n",
      "Epoch 141/500\n",
      "691/691 [==============================] - 0s 100us/sample - loss: 0.5152 - accuracy: 0.7467 - val_loss: 0.4909 - val_accuracy: 0.7662\n",
      "Epoch 142/500\n",
      "691/691 [==============================] - 0s 83us/sample - loss: 0.5085 - accuracy: 0.7540 - val_loss: 0.4918 - val_accuracy: 0.7922\n",
      "Epoch 143/500\n",
      "691/691 [==============================] - 0s 98us/sample - loss: 0.4974 - accuracy: 0.7627 - val_loss: 0.4898 - val_accuracy: 0.7792\n",
      "Epoch 144/500\n",
      "691/691 [==============================] - 0s 116us/sample - loss: 0.5033 - accuracy: 0.7641 - val_loss: 0.4898 - val_accuracy: 0.7792\n",
      "Epoch 145/500\n",
      "691/691 [==============================] - 0s 98us/sample - loss: 0.5015 - accuracy: 0.7525 - val_loss: 0.4897 - val_accuracy: 0.7662\n",
      "Epoch 146/500\n",
      "691/691 [==============================] - 0s 99us/sample - loss: 0.4964 - accuracy: 0.7598 - val_loss: 0.4899 - val_accuracy: 0.7792\n",
      "Epoch 147/500\n",
      "691/691 [==============================] - 0s 95us/sample - loss: 0.4999 - accuracy: 0.7496 - val_loss: 0.4883 - val_accuracy: 0.7662\n",
      "Epoch 148/500\n",
      "691/691 [==============================] - 0s 93us/sample - loss: 0.5089 - accuracy: 0.7525 - val_loss: 0.4886 - val_accuracy: 0.7662\n",
      "Epoch 149/500\n",
      "691/691 [==============================] - 0s 92us/sample - loss: 0.4996 - accuracy: 0.7583 - val_loss: 0.4893 - val_accuracy: 0.7792\n",
      "Epoch 150/500\n",
      "691/691 [==============================] - 0s 102us/sample - loss: 0.5044 - accuracy: 0.7583 - val_loss: 0.4892 - val_accuracy: 0.7922\n",
      "Epoch 151/500\n",
      "691/691 [==============================] - 0s 86us/sample - loss: 0.5068 - accuracy: 0.7685 - val_loss: 0.4894 - val_accuracy: 0.7922\n",
      "Epoch 152/500\n",
      "691/691 [==============================] - 0s 91us/sample - loss: 0.5010 - accuracy: 0.7496 - val_loss: 0.4884 - val_accuracy: 0.7792\n",
      "Epoch 00152: early stopping\n"
     ]
    },
    {
     "data": {
      "text/plain": [
       "<tensorflow.python.keras.callbacks.History at 0x7fd8cf08e210>"
      ]
     },
     "execution_count": 66,
     "metadata": {},
     "output_type": "execute_result"
    }
   ],
   "source": [
    "model.fit(X_train, y_train, epochs=500, verbose=1, callbacks=[early_stop], validation_data=(X_test, y_test))"
   ]
  },
  {
   "cell_type": "code",
   "execution_count": 67,
   "metadata": {},
   "outputs": [],
   "source": [
    "metrics = pd.DataFrame(model.history.history)"
   ]
  },
  {
   "cell_type": "code",
   "execution_count": 68,
   "metadata": {},
   "outputs": [
    {
     "data": {
      "text/plain": [
       "<matplotlib.axes._subplots.AxesSubplot at 0x7fd8d0bb4050>"
      ]
     },
     "execution_count": 68,
     "metadata": {},
     "output_type": "execute_result"
    },
    {
     "data": {
      "image/png": "[encoded data removed]",
      "text/plain": [
       "<Figure size 432x288 with 1 Axes>"
      ]
     },
     "metadata": {
      "needs_background": "light"
     },
     "output_type": "display_data"
    }
   ],
   "source": [
    "metrics[['loss', 'val_loss']].plot()"
   ]
  },
  {
   "cell_type": "code",
   "execution_count": 69,
   "metadata": {},
   "outputs": [
    {
     "data": {
      "text/plain": [
       "<matplotlib.axes._subplots.AxesSubplot at 0x7fd8cd891490>"
      ]
     },
     "execution_count": 69,
     "metadata": {},
     "output_type": "execute_result"
    },
    {
     "data": {
      "image/png": "[encoded data removed]",
      "text/plain": [
       "<Figure size 432x288 with 1 Axes>"
      ]
     },
     "metadata": {
      "needs_background": "light"
     },
     "output_type": "display_data"
    }
   ],
   "source": [
    "metrics[['accuracy', 'val_accuracy']].plot()"
   ]
  },
  {
   "cell_type": "code",
   "execution_count": 70,
   "metadata": {},
   "outputs": [],
   "source": [
    "pred = model.predict_classes(X_test)"
   ]
  },
  {
   "cell_type": "code",
   "execution_count": 71,
   "metadata": {},
   "outputs": [
    {
     "data": {
      "text/plain": [
       "[0.48839120973240246, 0.77922076]"
      ]
     },
     "execution_count": 71,
     "metadata": {},
     "output_type": "execute_result"
    }
   ],
   "source": [
    "model.evaluate(X_test, y_test,verbose=0)"
   ]
  },
  {
   "cell_type": "code",
   "execution_count": 72,
   "metadata": {},
   "outputs": [],
   "source": [
    "from sklearn.metrics import confusion_matrix, classification_report"
   ]
  },
  {
   "cell_type": "code",
   "execution_count": 73,
   "metadata": {},
   "outputs": [
    {
     "name": "stdout",
     "output_type": "stream",
     "text": [
      "              precision    recall  f1-score   support\n",
      "\n",
      "           0       0.80      0.88      0.84        50\n",
      "           1       0.73      0.59      0.65        27\n",
      "\n",
      "    accuracy                           0.78        77\n",
      "   macro avg       0.76      0.74      0.75        77\n",
      "weighted avg       0.77      0.78      0.77        77\n",
      "\n"
     ]
    }
   ],
   "source": [
    "print(classification_report(y_test, pred))"
   ]
  },
  {
   "cell_type": "code",
   "execution_count": 74,
   "metadata": {},
   "outputs": [
    {
     "name": "stdout",
     "output_type": "stream",
     "text": [
      "[[44  6]\n",
      " [11 16]]\n"
     ]
    }
   ],
   "source": [
    "print(confusion_matrix(y_test, pred))"
   ]
  },
  {
   "cell_type": "code",
   "execution_count": 77,
   "metadata": {},
   "outputs": [],
   "source": [
    "model.save('models/diabetes.h5')"
   ]
  },
  {
   "cell_type": "code",
   "execution_count": null,
   "metadata": {},
   "outputs": [],
   "source": []
  }
 ],
 "metadata": {
  "kernelspec": {
   "display_name": "Python 3",
   "language": "python",
   "name": "python3"
  },
  "language_info": {
   "codemirror_mode": {
    "name": "ipython",
    "version": 3
   },
   "file_extension": ".py",
   "mimetype": "text/x-python",
   "name": "python",
   "nbconvert_exporter": "python",
   "pygments_lexer": "ipython3",
   "version": "3.7.4"
  }
 },
 "nbformat": 4,
 "nbformat_minor": 2
}
