{
  "nbformat": 4,
  "nbformat_minor": 0,
  "metadata": {
    "colab": {
      "name": "mnist99acc.ipynb",
      "provenance": [],
      "collapsed_sections": []
    },
    "kernelspec": {
      "name": "python3",
      "display_name": "Python 3"
    },
    "accelerator": "GPU"
  },
  "cells": [
    {
      "cell_type": "code",
      "metadata": {
        "id": "9LeRGZyZvGj-",
        "colab_type": "code",
        "outputId": "c2973ea1-f643-400e-bc9c-b7c3684dead4",
        "colab": {
          "base_uri": "https://localhost:8080/",
          "height": 34
        }
      },
      "source": [
        "%tensorflow_version 2.x"
      ],
      "execution_count": 0,
      "outputs": [
        {
          "output_type": "stream",
          "text": [
            "TensorFlow 2.x selected.\n"
          ],
          "name": "stdout"
        }
      ]
    },
    {
      "cell_type": "code",
      "metadata": {
        "id": "YZ2PGxzHvJW5",
        "colab_type": "code",
        "colab": {}
      },
      "source": [
        "import tensorflow"
      ],
      "execution_count": 0,
      "outputs": []
    },
    {
      "cell_type": "code",
      "metadata": {
        "id": "RXtYMvQovLy1",
        "colab_type": "code",
        "outputId": "a3b11297-ffb3-4e37-e25d-bfa39f867f2a",
        "colab": {
          "base_uri": "https://localhost:8080/",
          "height": 34
        }
      },
      "source": [
        "tensorflow.__version__"
      ],
      "execution_count": 0,
      "outputs": [
        {
          "output_type": "execute_result",
          "data": {
            "text/plain": [
              "'2.1.0-rc1'"
            ]
          },
          "metadata": {
            "tags": []
          },
          "execution_count": 3
        }
      ]
    },
    {
      "cell_type": "code",
      "metadata": {
        "id": "qtKF7GRRvN8C",
        "colab_type": "code",
        "colab": {}
      },
      "source": [
        "from tensorflow.keras.datasets import mnist\n",
        "from tensorflow.keras.models import Sequential\n",
        "from tensorflow.keras.layers import Dense, Dropout, Conv2D, MaxPooling2D, Flatten\n",
        "from tensorflow.keras.optimizers import RMSprop"
      ],
      "execution_count": 0,
      "outputs": []
    },
    {
      "cell_type": "code",
      "metadata": {
        "id": "0DnzNlddGsZH",
        "colab_type": "code",
        "outputId": "b1479491-c39b-400f-a66f-d76cea1a9ad9",
        "colab": {
          "base_uri": "https://localhost:8080/",
          "height": 51
        }
      },
      "source": [
        "(train_images, train_labels), (test_images, test_labels) = mnist.load_data()"
      ],
      "execution_count": 0,
      "outputs": [
        {
          "output_type": "stream",
          "text": [
            "Downloading data from https://storage.googleapis.com/tensorflow/tf-keras-datasets/mnist.npz\n",
            "11493376/11490434 [==============================] - 0s 0us/step\n"
          ],
          "name": "stdout"
        }
      ]
    },
    {
      "cell_type": "code",
      "metadata": {
        "id": "DVQKFcVNG0DJ",
        "colab_type": "code",
        "colab": {}
      },
      "source": [
        "train_images = train_images.reshape(train_images.shape[0], 28, 28, 1)\n",
        "test_images = test_images.reshape(test_images.shape[0], 28, 28, 1)\n",
        "input_shape = (28, 28, 1)"
      ],
      "execution_count": 0,
      "outputs": []
    },
    {
      "cell_type": "code",
      "metadata": {
        "id": "DbqHTmZZHOsO",
        "colab_type": "code",
        "colab": {}
      },
      "source": [
        "train_images = train_images.astype('float32')\n",
        "test_images = test_images.astype('float32')\n",
        "train_images /= 255\n",
        "test_images /= 255"
      ],
      "execution_count": 0,
      "outputs": []
    },
    {
      "cell_type": "code",
      "metadata": {
        "id": "MYBNnsrVHdpC",
        "colab_type": "code",
        "colab": {}
      },
      "source": [
        "from tensorflow.keras.utils import to_categorical"
      ],
      "execution_count": 0,
      "outputs": []
    },
    {
      "cell_type": "code",
      "metadata": {
        "id": "AiUDddsFHkFA",
        "colab_type": "code",
        "colab": {}
      },
      "source": [
        "train_labels = to_categorical(train_labels, 10)\n",
        "test_labels = to_categorical(test_labels, 10)"
      ],
      "execution_count": 0,
      "outputs": []
    },
    {
      "cell_type": "code",
      "metadata": {
        "id": "wge3nES5Hsb2",
        "colab_type": "code",
        "colab": {}
      },
      "source": [
        "model = Sequential()\n",
        "\n",
        "model.add(Conv2D(32, (3, 3), activation='relu', input_shape=input_shape))\n",
        "model.add(Conv2D(64, (3, 3), activation='relu'))\n",
        "model.add(MaxPooling2D(pool_size=(2, 2)))\n",
        "model.add(Dropout(0.25))\n",
        "model.add(Flatten())\n",
        "model.add(Dense(128, activation='relu'))\n",
        "model.add(Dropout(0.5))\n",
        "model.add(Dense(10, activation='softmax'))"
      ],
      "execution_count": 0,
      "outputs": []
    },
    {
      "cell_type": "code",
      "metadata": {
        "id": "YPxWDXkgH4AS",
        "colab_type": "code",
        "colab": {}
      },
      "source": [
        "model.compile(loss='categorical_crossentropy', optimizer='adam', metrics=['accuracy'])"
      ],
      "execution_count": 0,
      "outputs": []
    },
    {
      "cell_type": "code",
      "metadata": {
        "id": "oBTPMuFVI6LG",
        "colab_type": "code",
        "outputId": "d7e8c6e6-2955-4111-a357-0772eba3aadc",
        "colab": {
          "base_uri": "https://localhost:8080/",
          "height": 374
        }
      },
      "source": [
        "history = model.fit(train_images, train_labels, batch_size=32, epochs=10, verbose=2, validation_data=(test_images, test_labels))"
      ],
      "execution_count": 0,
      "outputs": [
        {
          "output_type": "stream",
          "text": [
            "Train on 60000 samples, validate on 10000 samples\n",
            "Epoch 1/10\n",
            "60000/60000 - 15s - loss: 0.2015 - accuracy: 0.9389 - val_loss: 0.0428 - val_accuracy: 0.9863\n",
            "Epoch 2/10\n",
            "60000/60000 - 7s - loss: 0.0828 - accuracy: 0.9758 - val_loss: 0.0355 - val_accuracy: 0.9885\n",
            "Epoch 3/10\n",
            "60000/60000 - 7s - loss: 0.0610 - accuracy: 0.9822 - val_loss: 0.0396 - val_accuracy: 0.9873\n",
            "Epoch 4/10\n",
            "60000/60000 - 7s - loss: 0.0524 - accuracy: 0.9837 - val_loss: 0.0319 - val_accuracy: 0.9907\n",
            "Epoch 5/10\n",
            "60000/60000 - 8s - loss: 0.0412 - accuracy: 0.9874 - val_loss: 0.0293 - val_accuracy: 0.9907\n",
            "Epoch 6/10\n",
            "60000/60000 - 7s - loss: 0.0351 - accuracy: 0.9884 - val_loss: 0.0305 - val_accuracy: 0.9914\n",
            "Epoch 7/10\n",
            "60000/60000 - 7s - loss: 0.0315 - accuracy: 0.9902 - val_loss: 0.0282 - val_accuracy: 0.9921\n",
            "Epoch 8/10\n",
            "60000/60000 - 7s - loss: 0.0285 - accuracy: 0.9908 - val_loss: 0.0274 - val_accuracy: 0.9921\n",
            "Epoch 9/10\n",
            "60000/60000 - 7s - loss: 0.0274 - accuracy: 0.9914 - val_loss: 0.0297 - val_accuracy: 0.9919\n",
            "Epoch 10/10\n",
            "60000/60000 - 7s - loss: 0.0227 - accuracy: 0.9927 - val_loss: 0.0266 - val_accuracy: 0.9924\n"
          ],
          "name": "stdout"
        }
      ]
    },
    {
      "cell_type": "code",
      "metadata": {
        "id": "WVCzJ6sOJOuX",
        "colab_type": "code",
        "outputId": "ab82de25-6c71-4ee3-fdd2-78ad1d9c3b6c",
        "colab": {
          "base_uri": "https://localhost:8080/",
          "height": 51
        }
      },
      "source": [
        "score = model.evaluate(test_images, test_labels, verbose=0)\n",
        "print('loss', score[0])\n",
        "print('accuracy', score[1])"
      ],
      "execution_count": 0,
      "outputs": [
        {
          "output_type": "stream",
          "text": [
            "loss 0.026587505926810206\n",
            "accuracy 0.9924\n"
          ],
          "name": "stdout"
        }
      ]
    },
    {
      "cell_type": "code",
      "metadata": {
        "id": "Uz7tZtjjJtL_",
        "colab_type": "code",
        "colab": {}
      },
      "source": [
        "model.save('mnist_99acc.h5')"
      ],
      "execution_count": 0,
      "outputs": []
    },
    {
      "cell_type": "code",
      "metadata": {
        "id": "7_BLC0fUJ4U7",
        "colab_type": "code",
        "colab": {}
      },
      "source": [
        ""
      ],
      "execution_count": 0,
      "outputs": []
    }
  ]
}