{
 "cells": [
  {
   "cell_type": "code",
   "execution_count": 1,
   "metadata": {},
   "outputs": [],
   "source": [
    "import numpy as np\n",
    "import pandas as pd\n",
    "import matplotlib.pyplot as plt"
   ]
  },
  {
   "cell_type": "code",
   "execution_count": 4,
   "metadata": {},
   "outputs": [],
   "source": [
    "df = pd.read_csv('datasets/african_econ_crises.csv')"
   ]
  },
  {
   "cell_type": "code",
   "execution_count": 5,
   "metadata": {},
   "outputs": [
    {
     "data": {
      "text/html": [
       "<div>\n",
       "<style scoped>\n",
       "    .dataframe tbody tr th:only-of-type {\n",
       "        vertical-align: middle;\n",
       "    }\n",
       "\n",
       "    .dataframe tbody tr th {\n",
       "        vertical-align: top;\n",
       "    }\n",
       "\n",
       "    .dataframe thead th {\n",
       "        text-align: right;\n",
       "    }\n",
       "</style>\n",
       "<table border=\"1\" class=\"dataframe\">\n",
       "  <thead>\n",
       "    <tr style=\"text-align: right;\">\n",
       "      <th></th>\n",
       "      <th>case</th>\n",
       "      <th>cc3</th>\n",
       "      <th>country</th>\n",
       "      <th>year</th>\n",
       "      <th>systemic_crisis</th>\n",
       "      <th>exch_usd</th>\n",
       "      <th>domestic_debt_in_default</th>\n",
       "      <th>sovereign_external_debt_default</th>\n",
       "      <th>gdp_weighted_default</th>\n",
       "      <th>inflation_annual_cpi</th>\n",
       "      <th>independence</th>\n",
       "      <th>currency_crises</th>\n",
       "      <th>inflation_crises</th>\n",
       "      <th>banking_crisis</th>\n",
       "    </tr>\n",
       "  </thead>\n",
       "  <tbody>\n",
       "    <tr>\n",
       "      <td>0</td>\n",
       "      <td>1</td>\n",
       "      <td>DZA</td>\n",
       "      <td>Algeria</td>\n",
       "      <td>1870</td>\n",
       "      <td>1</td>\n",
       "      <td>0.052264</td>\n",
       "      <td>0</td>\n",
       "      <td>0</td>\n",
       "      <td>0.0</td>\n",
       "      <td>3.441456</td>\n",
       "      <td>0</td>\n",
       "      <td>0</td>\n",
       "      <td>0</td>\n",
       "      <td>crisis</td>\n",
       "    </tr>\n",
       "    <tr>\n",
       "      <td>1</td>\n",
       "      <td>1</td>\n",
       "      <td>DZA</td>\n",
       "      <td>Algeria</td>\n",
       "      <td>1871</td>\n",
       "      <td>0</td>\n",
       "      <td>0.052798</td>\n",
       "      <td>0</td>\n",
       "      <td>0</td>\n",
       "      <td>0.0</td>\n",
       "      <td>14.149140</td>\n",
       "      <td>0</td>\n",
       "      <td>0</td>\n",
       "      <td>0</td>\n",
       "      <td>no_crisis</td>\n",
       "    </tr>\n",
       "    <tr>\n",
       "      <td>2</td>\n",
       "      <td>1</td>\n",
       "      <td>DZA</td>\n",
       "      <td>Algeria</td>\n",
       "      <td>1872</td>\n",
       "      <td>0</td>\n",
       "      <td>0.052274</td>\n",
       "      <td>0</td>\n",
       "      <td>0</td>\n",
       "      <td>0.0</td>\n",
       "      <td>-3.718593</td>\n",
       "      <td>0</td>\n",
       "      <td>0</td>\n",
       "      <td>0</td>\n",
       "      <td>no_crisis</td>\n",
       "    </tr>\n",
       "    <tr>\n",
       "      <td>3</td>\n",
       "      <td>1</td>\n",
       "      <td>DZA</td>\n",
       "      <td>Algeria</td>\n",
       "      <td>1873</td>\n",
       "      <td>0</td>\n",
       "      <td>0.051680</td>\n",
       "      <td>0</td>\n",
       "      <td>0</td>\n",
       "      <td>0.0</td>\n",
       "      <td>11.203897</td>\n",
       "      <td>0</td>\n",
       "      <td>0</td>\n",
       "      <td>0</td>\n",
       "      <td>no_crisis</td>\n",
       "    </tr>\n",
       "    <tr>\n",
       "      <td>4</td>\n",
       "      <td>1</td>\n",
       "      <td>DZA</td>\n",
       "      <td>Algeria</td>\n",
       "      <td>1874</td>\n",
       "      <td>0</td>\n",
       "      <td>0.051308</td>\n",
       "      <td>0</td>\n",
       "      <td>0</td>\n",
       "      <td>0.0</td>\n",
       "      <td>-3.848561</td>\n",
       "      <td>0</td>\n",
       "      <td>0</td>\n",
       "      <td>0</td>\n",
       "      <td>no_crisis</td>\n",
       "    </tr>\n",
       "  </tbody>\n",
       "</table>\n",
       "</div>"
      ],
      "text/plain": [
       "   case  cc3  country  year  systemic_crisis  exch_usd  \\\n",
       "0     1  DZA  Algeria  1870                1  0.052264   \n",
       "1     1  DZA  Algeria  1871                0  0.052798   \n",
       "2     1  DZA  Algeria  1872                0  0.052274   \n",
       "3     1  DZA  Algeria  1873                0  0.051680   \n",
       "4     1  DZA  Algeria  1874                0  0.051308   \n",
       "\n",
       "   domestic_debt_in_default  sovereign_external_debt_default  \\\n",
       "0                         0                                0   \n",
       "1                         0                                0   \n",
       "2                         0                                0   \n",
       "3                         0                                0   \n",
       "4                         0                                0   \n",
       "\n",
       "   gdp_weighted_default  inflation_annual_cpi  independence  currency_crises  \\\n",
       "0                   0.0              3.441456             0                0   \n",
       "1                   0.0             14.149140             0                0   \n",
       "2                   0.0             -3.718593             0                0   \n",
       "3                   0.0             11.203897             0                0   \n",
       "4                   0.0             -3.848561             0                0   \n",
       "\n",
       "   inflation_crises banking_crisis  \n",
       "0                 0         crisis  \n",
       "1                 0      no_crisis  \n",
       "2                 0      no_crisis  \n",
       "3                 0      no_crisis  \n",
       "4                 0      no_crisis  "
      ]
     },
     "execution_count": 5,
     "metadata": {},
     "output_type": "execute_result"
    }
   ],
   "source": [
    "df.head()"
   ]
  },
  {
   "cell_type": "code",
   "execution_count": 6,
   "metadata": {},
   "outputs": [
    {
     "data": {
      "text/plain": [
       "(1059, 14)"
      ]
     },
     "execution_count": 6,
     "metadata": {},
     "output_type": "execute_result"
    }
   ],
   "source": [
    "df.shape"
   ]
  },
  {
   "cell_type": "code",
   "execution_count": 16,
   "metadata": {},
   "outputs": [],
   "source": [
    "dfc = df.copy()"
   ]
  },
  {
   "cell_type": "code",
   "execution_count": 18,
   "metadata": {},
   "outputs": [],
   "source": [
    "dfc = dfc.drop(['case', 'cc3', 'country', 'year'], axis=1)"
   ]
  },
  {
   "cell_type": "code",
   "execution_count": 22,
   "metadata": {},
   "outputs": [],
   "source": [
    "X = dfc.iloc[:, :-1].values"
   ]
  },
  {
   "cell_type": "code",
   "execution_count": 23,
   "metadata": {},
   "outputs": [],
   "source": [
    "y = dfc.iloc[:, -1].values"
   ]
  },
  {
   "cell_type": "code",
   "execution_count": 39,
   "metadata": {},
   "outputs": [
    {
     "data": {
      "text/plain": [
       "array([0, 1, 1, ..., 1, 1, 1])"
      ]
     },
     "execution_count": 39,
     "metadata": {},
     "output_type": "execute_result"
    }
   ],
   "source": [
    "from sklearn.preprocessing import LabelEncoder\n",
    "encoder = LabelEncoder()\n",
    "y = encoder.fit_transform(y)\n",
    "y"
   ]
  },
  {
   "cell_type": "code",
   "execution_count": 40,
   "metadata": {},
   "outputs": [],
   "source": [
    "# Split data\n",
    "from sklearn.model_selection import train_test_split\n",
    "X_train, X_test, y_train, y_test = train_test_split(X, y, test_size=0.2, random_state=42)"
   ]
  },
  {
   "cell_type": "code",
   "execution_count": 41,
   "metadata": {},
   "outputs": [],
   "source": [
    "# Scale data\n",
    "from sklearn.preprocessing import MinMaxScaler\n",
    "scaler = MinMaxScaler()"
   ]
  },
  {
   "cell_type": "code",
   "execution_count": 42,
   "metadata": {},
   "outputs": [],
   "source": [
    "X_train = scaler.fit_transform(X_train)\n",
    "X_test = scaler.transform(X_test)"
   ]
  },
  {
   "cell_type": "code",
   "execution_count": 52,
   "metadata": {},
   "outputs": [],
   "source": [
    "from tensorflow.keras.models import Sequential\n",
    "from tensorflow.keras.layers import Dense, Dropout\n",
    "\n",
    "model = Sequential()\n",
    "model.add(Dense(13, activation='relu'))\n",
    "model.add(Dropout(0.5))\n",
    "model.add(Dense(5, activation='relu'))\n",
    "model.add(Dropout(0.5))\n",
    "model.add(Dense(1, activation='sigmoid'))\n",
    "\n",
    "model.compile(optimizer='adam', loss='binary_crossentropy', metrics=['accuracy'])"
   ]
  },
  {
   "cell_type": "code",
   "execution_count": 53,
   "metadata": {},
   "outputs": [],
   "source": [
    "from tensorflow.keras.callbacks import EarlyStopping\n",
    "early_stop = EarlyStopping(monitor='val_loss', patience=5, verbose=1, mode='min')"
   ]
  },
  {
   "cell_type": "code",
   "execution_count": 54,
   "metadata": {},
   "outputs": [
    {
     "name": "stdout",
     "output_type": "stream",
     "text": [
      "Train on 847 samples, validate on 212 samples\n",
      "Epoch 1/100\n",
      "847/847 [==============================] - 1s 996us/sample - loss: 0.6084 - accuracy: 0.8158 - val_loss: 0.5276 - val_accuracy: 0.9198\n",
      "Epoch 2/100\n",
      "847/847 [==============================] - 0s 294us/sample - loss: 0.5045 - accuracy: 0.8831 - val_loss: 0.4083 - val_accuracy: 0.9198\n",
      "Epoch 3/100\n",
      "847/847 [==============================] - 0s 320us/sample - loss: 0.4396 - accuracy: 0.9126 - val_loss: 0.3281 - val_accuracy: 0.9151\n",
      "Epoch 4/100\n",
      "847/847 [==============================] - 0s 287us/sample - loss: 0.3868 - accuracy: 0.9079 - val_loss: 0.2802 - val_accuracy: 0.9151\n",
      "Epoch 5/100\n",
      "847/847 [==============================] - 0s 309us/sample - loss: 0.3480 - accuracy: 0.9126 - val_loss: 0.2438 - val_accuracy: 0.9151\n",
      "Epoch 6/100\n",
      "847/847 [==============================] - 0s 302us/sample - loss: 0.3303 - accuracy: 0.9103 - val_loss: 0.2163 - val_accuracy: 0.9198\n",
      "Epoch 7/100\n",
      "847/847 [==============================] - 0s 303us/sample - loss: 0.3165 - accuracy: 0.9115 - val_loss: 0.1945 - val_accuracy: 0.9198\n",
      "Epoch 8/100\n",
      "847/847 [==============================] - 0s 311us/sample - loss: 0.3005 - accuracy: 0.9103 - val_loss: 0.1676 - val_accuracy: 0.9198\n",
      "Epoch 9/100\n",
      "847/847 [==============================] - 0s 306us/sample - loss: 0.2722 - accuracy: 0.9091 - val_loss: 0.1530 - val_accuracy: 0.9198\n",
      "Epoch 10/100\n",
      "847/847 [==============================] - 0s 300us/sample - loss: 0.2778 - accuracy: 0.9126 - val_loss: 0.1438 - val_accuracy: 0.9198\n",
      "Epoch 11/100\n",
      "847/847 [==============================] - 0s 329us/sample - loss: 0.2629 - accuracy: 0.9174 - val_loss: 0.1374 - val_accuracy: 0.9198\n",
      "Epoch 12/100\n",
      "847/847 [==============================] - 0s 318us/sample - loss: 0.2535 - accuracy: 0.9126 - val_loss: 0.1302 - val_accuracy: 0.9198\n",
      "Epoch 13/100\n",
      "847/847 [==============================] - 0s 322us/sample - loss: 0.2684 - accuracy: 0.9209 - val_loss: 0.1232 - val_accuracy: 0.9198\n",
      "Epoch 14/100\n",
      "847/847 [==============================] - 0s 305us/sample - loss: 0.2607 - accuracy: 0.9174 - val_loss: 0.1184 - val_accuracy: 0.9198\n",
      "Epoch 15/100\n",
      "847/847 [==============================] - 0s 308us/sample - loss: 0.2350 - accuracy: 0.9233 - val_loss: 0.1130 - val_accuracy: 0.9198\n",
      "Epoch 16/100\n",
      "847/847 [==============================] - 0s 307us/sample - loss: 0.2265 - accuracy: 0.9292 - val_loss: 0.1075 - val_accuracy: 0.9198\n",
      "Epoch 17/100\n",
      "847/847 [==============================] - 0s 316us/sample - loss: 0.2245 - accuracy: 0.9315 - val_loss: 0.1049 - val_accuracy: 0.9198\n",
      "Epoch 18/100\n",
      "847/847 [==============================] - 0s 327us/sample - loss: 0.2219 - accuracy: 0.9256 - val_loss: 0.1001 - val_accuracy: 0.9198\n",
      "Epoch 19/100\n",
      "847/847 [==============================] - 0s 296us/sample - loss: 0.2247 - accuracy: 0.9351 - val_loss: 0.0950 - val_accuracy: 0.9292\n",
      "Epoch 20/100\n",
      "847/847 [==============================] - 0s 308us/sample - loss: 0.2153 - accuracy: 0.9280 - val_loss: 0.0924 - val_accuracy: 0.9292\n",
      "Epoch 21/100\n",
      "847/847 [==============================] - 0s 320us/sample - loss: 0.2392 - accuracy: 0.9185 - val_loss: 0.0926 - val_accuracy: 0.9340\n",
      "Epoch 22/100\n",
      "847/847 [==============================] - 0s 314us/sample - loss: 0.2199 - accuracy: 0.9292 - val_loss: 0.0901 - val_accuracy: 0.9292\n",
      "Epoch 23/100\n",
      "847/847 [==============================] - 0s 314us/sample - loss: 0.2211 - accuracy: 0.9221 - val_loss: 0.0847 - val_accuracy: 0.9340\n",
      "Epoch 24/100\n",
      "847/847 [==============================] - 0s 313us/sample - loss: 0.2197 - accuracy: 0.9386 - val_loss: 0.0806 - val_accuracy: 0.9858\n",
      "Epoch 25/100\n",
      "847/847 [==============================] - 0s 296us/sample - loss: 0.2131 - accuracy: 0.9327 - val_loss: 0.0811 - val_accuracy: 0.9858\n",
      "Epoch 26/100\n",
      "847/847 [==============================] - 0s 317us/sample - loss: 0.2013 - accuracy: 0.9339 - val_loss: 0.0770 - val_accuracy: 0.9858\n",
      "Epoch 27/100\n",
      "847/847 [==============================] - 0s 303us/sample - loss: 0.2021 - accuracy: 0.9327 - val_loss: 0.0760 - val_accuracy: 0.9858\n",
      "Epoch 28/100\n",
      "847/847 [==============================] - 0s 312us/sample - loss: 0.1934 - accuracy: 0.9327 - val_loss: 0.0737 - val_accuracy: 0.9858\n",
      "Epoch 29/100\n",
      "847/847 [==============================] - 0s 293us/sample - loss: 0.2100 - accuracy: 0.9315 - val_loss: 0.0750 - val_accuracy: 0.9858\n",
      "Epoch 30/100\n",
      "847/847 [==============================] - 0s 330us/sample - loss: 0.2135 - accuracy: 0.9315 - val_loss: 0.0767 - val_accuracy: 0.9858\n",
      "Epoch 31/100\n",
      "847/847 [==============================] - 0s 304us/sample - loss: 0.2254 - accuracy: 0.9327 - val_loss: 0.0771 - val_accuracy: 0.9858\n",
      "Epoch 32/100\n",
      "847/847 [==============================] - 0s 329us/sample - loss: 0.2177 - accuracy: 0.9280 - val_loss: 0.0770 - val_accuracy: 0.9858\n",
      "Epoch 33/100\n",
      "847/847 [==============================] - 0s 325us/sample - loss: 0.2137 - accuracy: 0.9292 - val_loss: 0.0776 - val_accuracy: 0.9858\n",
      "Epoch 00033: early stopping\n"
     ]
    },
    {
     "data": {
      "text/plain": [
       "<tensorflow.python.keras.callbacks.History at 0x7fa829b43890>"
      ]
     },
     "execution_count": 54,
     "metadata": {},
     "output_type": "execute_result"
    }
   ],
   "source": [
    "model.fit(X_train, y_train, batch_size=10, epochs=100, callbacks=[early_stop], validation_data=(X_test, y_test))"
   ]
  },
  {
   "cell_type": "code",
   "execution_count": 55,
   "metadata": {},
   "outputs": [],
   "source": [
    "metrics = pd.DataFrame(model.history.history)"
   ]
  },
  {
   "cell_type": "code",
   "execution_count": 56,
   "metadata": {},
   "outputs": [
    {
     "data": {
      "text/plain": [
       "<matplotlib.axes._subplots.AxesSubplot at 0x7fa8283f8590>"
      ]
     },
     "execution_count": 56,
     "metadata": {},
     "output_type": "execute_result"
    },
    {
     "data": {
      "image/png": "[encoded data removed]",
      "text/plain": [
       "<Figure size 432x288 with 1 Axes>"
      ]
     },
     "metadata": {
      "needs_background": "light"
     },
     "output_type": "display_data"
    }
   ],
   "source": [
    "metrics[['loss', 'val_loss']].plot()"
   ]
  },
  {
   "cell_type": "code",
   "execution_count": 57,
   "metadata": {},
   "outputs": [
    {
     "data": {
      "text/plain": [
       "<matplotlib.axes._subplots.AxesSubplot at 0x7fa8283698d0>"
      ]
     },
     "execution_count": 57,
     "metadata": {},
     "output_type": "execute_result"
    },
    {
     "data": {
      "image/png": "[encoded data removed]",
      "text/plain": [
       "<Figure size 432x288 with 1 Axes>"
      ]
     },
     "metadata": {
      "needs_background": "light"
     },
     "output_type": "display_data"
    }
   ],
   "source": [
    "metrics[['accuracy', 'val_accuracy']].plot()"
   ]
  },
  {
   "cell_type": "code",
   "execution_count": 58,
   "metadata": {},
   "outputs": [],
   "source": [
    "pred = model.predict_classes(X_test)"
   ]
  },
  {
   "cell_type": "code",
   "execution_count": 59,
   "metadata": {},
   "outputs": [
    {
     "data": {
      "text/plain": [
       "[0.07763054889609229, 0.9858491]"
      ]
     },
     "execution_count": 59,
     "metadata": {},
     "output_type": "execute_result"
    }
   ],
   "source": [
    "model.evaluate(X_test, y_test,verbose=0)"
   ]
  },
  {
   "cell_type": "code",
   "execution_count": 60,
   "metadata": {},
   "outputs": [],
   "source": [
    "from sklearn.metrics import confusion_matrix, classification_report"
   ]
  },
  {
   "cell_type": "code",
   "execution_count": 61,
   "metadata": {},
   "outputs": [
    {
     "name": "stdout",
     "output_type": "stream",
     "text": [
      "              precision    recall  f1-score   support\n",
      "\n",
      "           0       0.94      0.89      0.91        18\n",
      "           1       0.99      0.99      0.99       194\n",
      "\n",
      "    accuracy                           0.99       212\n",
      "   macro avg       0.97      0.94      0.95       212\n",
      "weighted avg       0.99      0.99      0.99       212\n",
      "\n"
     ]
    }
   ],
   "source": [
    "print(classification_report(y_test, pred))"
   ]
  },
  {
   "cell_type": "code",
   "execution_count": 62,
   "metadata": {},
   "outputs": [
    {
     "name": "stdout",
     "output_type": "stream",
     "text": [
      "[[ 16   2]\n",
      " [  1 193]]\n"
     ]
    }
   ],
   "source": [
    "print(confusion_matrix(y_test, pred))"
   ]
  },
  {
   "cell_type": "code",
   "execution_count": 64,
   "metadata": {},
   "outputs": [],
   "source": [
    "model.save('models/african_econ_crises.h5')"
   ]
  },
  {
   "cell_type": "code",
   "execution_count": null,
   "metadata": {},
   "outputs": [],
   "source": []
  }
 ],
 "metadata": {
  "kernelspec": {
   "display_name": "Python 3",
   "language": "python",
   "name": "python3"
  },
  "language_info": {
   "codemirror_mode": {
    "name": "ipython",
    "version": 3
   },
   "file_extension": ".py",
   "mimetype": "text/x-python",
   "name": "python",
   "nbconvert_exporter": "python",
   "pygments_lexer": "ipython3",
   "version": "3.7.4"
  }
 },
 "nbformat": 4,
 "nbformat_minor": 2
}
